{
 "cells": [
  {
   "cell_type": "code",
   "execution_count": 1,
   "metadata": {},
   "outputs": [
    {
     "data": {
      "text/html": [
       "<div>\n",
       "<style scoped>\n",
       "    .dataframe tbody tr th:only-of-type {\n",
       "        vertical-align: middle;\n",
       "    }\n",
       "\n",
       "    .dataframe tbody tr th {\n",
       "        vertical-align: top;\n",
       "    }\n",
       "\n",
       "    .dataframe thead th {\n",
       "        text-align: right;\n",
       "    }\n",
       "</style>\n",
       "<table border=\"1\" class=\"dataframe\">\n",
       "  <thead>\n",
       "    <tr style=\"text-align: right;\">\n",
       "      <th></th>\n",
       "      <th>url</th>\n",
       "      <th>title</th>\n",
       "      <th>text</th>\n",
       "      <th>date</th>\n",
       "    </tr>\n",
       "  </thead>\n",
       "  <tbody>\n",
       "    <tr>\n",
       "      <th>0</th>\n",
       "      <td>https://www.nachrichtenleicht.de/tuerkei-wahl-...</td>\n",
       "      <td>Opposition in der Türkei erfolgreich bei Wahl</td>\n",
       "      <td>Die CHP hat zum Beispiel in Istanbul und in de...</td>\n",
       "      <td>2024-05-04 00:00:00</td>\n",
       "    </tr>\n",
       "  </tbody>\n",
       "</table>\n",
       "</div>"
      ],
      "text/plain": [
       "                                                 url  \\\n",
       "0  https://www.nachrichtenleicht.de/tuerkei-wahl-...   \n",
       "\n",
       "                                           title  \\\n",
       "0  Opposition in der Türkei erfolgreich bei Wahl   \n",
       "\n",
       "                                                text                 date  \n",
       "0  Die CHP hat zum Beispiel in Istanbul und in de...  2024-05-04 00:00:00  "
      ]
     },
     "execution_count": 1,
     "metadata": {},
     "output_type": "execute_result"
    }
   ],
   "source": [
    "from DataHandler import DataHandler\n",
    "import os\n",
    "\n",
    "# Test code for the DataHandler functions\n",
    "# results of pandas frames show nicer in jupyter\n",
    "dh = DataHandler(\"df\")\n",
    "\n",
    "# dh.get_first(\"e\")\n",
    "#dh.get_all(\"e\")\n",
    "dh.head(10, \"e\")"
   ]
  }
 ],
 "metadata": {
  "kernelspec": {
   "display_name": "base",
   "language": "python",
   "name": "python3"
  },
  "language_info": {
   "codemirror_mode": {
    "name": "ipython",
    "version": 3
   },
   "file_extension": ".py",
   "mimetype": "text/x-python",
   "name": "python",
   "nbconvert_exporter": "python",
   "pygments_lexer": "ipython3",
   "version": "3.9.18"
  }
 },
 "nbformat": 4,
 "nbformat_minor": 2
}
