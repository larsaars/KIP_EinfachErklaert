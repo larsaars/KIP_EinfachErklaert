{
 "cells": [
  {
   "cell_type": "code",
   "execution_count": 1,
   "metadata": {},
   "outputs": [],
   "source": [
    "import os\n",
    "from DataHandler import DataHandler\n",
    "\n",
    "# change dir since we are in a subfolder \n",
    "os.chdir(os.path.dirname(os.getcwd()))\n",
    "\n",
    "# Init the data handler to your source\n",
    "dh = DataHandler(\"mdr\")"
   ]
  },
  {
   "cell_type": "markdown",
   "metadata": {},
   "source": [
    "### READ"
   ]
  },
  {
   "cell_type": "code",
   "execution_count": 2,
   "metadata": {},
   "outputs": [
    {
     "data": {
      "text/html": [
       "<div>\n",
       "<style scoped>\n",
       "    .dataframe tbody tr th:only-of-type {\n",
       "        vertical-align: middle;\n",
       "    }\n",
       "\n",
       "    .dataframe tbody tr th {\n",
       "        vertical-align: top;\n",
       "    }\n",
       "\n",
       "    .dataframe thead th {\n",
       "        text-align: right;\n",
       "    }\n",
       "</style>\n",
       "<table border=\"1\" class=\"dataframe\">\n",
       "  <thead>\n",
       "    <tr style=\"text-align: right;\">\n",
       "      <th></th>\n",
       "      <th>title</th>\n",
       "      <th>description</th>\n",
       "      <th>kicker</th>\n",
       "      <th>date</th>\n",
       "      <th>url</th>\n",
       "      <th>image_url</th>\n",
       "      <th>image_description</th>\n",
       "      <th>match</th>\n",
       "      <th>audio_audio_url</th>\n",
       "      <th>audio_download_url</th>\n",
       "      <th>audio_duration</th>\n",
       "      <th>text</th>\n",
       "    </tr>\n",
       "  </thead>\n",
       "  <tbody>\n",
       "    <tr>\n",
       "      <th>0</th>\n",
       "      <td>Wohin am Wochenende? Tipps für Bitterfeld-Wolf...</td>\n",
       "      <td>Sie suchen Tipps fürs Wochenende? Wie wäre es ...</td>\n",
       "      <td>Kulturelle Ausflugsziele</td>\n",
       "      <td>2024-05-23</td>\n",
       "      <td>https://mdr.de/kultur/ausflug-tipps/bitterfeld...</td>\n",
       "      <td>https://cdn.mdr.de/kultur/ausstellungen/der-os...</td>\n",
       "      <td>Große und kleine Videoprojektionen mit mehrere...</td>\n",
       "      <td>https://www.mdr.de/nachrichten-leicht/leichte-...</td>\n",
       "      <td>https://odmdr-a.akamaihd.net/mp4audiomobil/d/d...</td>\n",
       "      <td>https://odmdr-a.akamaihd.net/mp4audiomobil/d/d...</td>\n",
       "      <td>None</td>\n",
       "      <td>&lt;h3&gt;Bitterfeld-Wolfen: Kunstfestival Osten in ...</td>\n",
       "    </tr>\n",
       "    <tr>\n",
       "      <th>0</th>\n",
       "      <td>Barrierefreiheit in Sachsen-Anhalt: Das Projek...</td>\n",
       "      <td>Mitte April ist das crossmediale Projekt \"Stop...</td>\n",
       "      <td>Rückblick und Ausblick</td>\n",
       "      <td>2024-05-26</td>\n",
       "      <td>https://mdr.de/nachrichten/sachsen-anhalt/barr...</td>\n",
       "      <td>https://cdn.mdr.de/sachsen-anhalt-heute/mdr-sa...</td>\n",
       "      <td>MDR Reporterin während Interview.</td>\n",
       "      <td>https://www.mdr.de/nachrichten-leicht/leichte-...</td>\n",
       "      <td>https://odmdr-a.akamaihd.net/mp4audiomobil/d/d...</td>\n",
       "      <td>https://odmdr-a.akamaihd.net/mp4audiomobil/d/d...</td>\n",
       "      <td>None</td>\n",
       "      <td>&lt;h3&gt;Mobile Lokalredaktionen in drei Orten: Wo ...</td>\n",
       "    </tr>\n",
       "  </tbody>\n",
       "</table>\n",
       "</div>"
      ],
      "text/plain": [
       "                                               title  \\\n",
       "0  Wohin am Wochenende? Tipps für Bitterfeld-Wolf...   \n",
       "0  Barrierefreiheit in Sachsen-Anhalt: Das Projek...   \n",
       "\n",
       "                                         description  \\\n",
       "0  Sie suchen Tipps fürs Wochenende? Wie wäre es ...   \n",
       "0  Mitte April ist das crossmediale Projekt \"Stop...   \n",
       "\n",
       "                     kicker        date  \\\n",
       "0  Kulturelle Ausflugsziele  2024-05-23   \n",
       "0    Rückblick und Ausblick  2024-05-26   \n",
       "\n",
       "                                                 url  \\\n",
       "0  https://mdr.de/kultur/ausflug-tipps/bitterfeld...   \n",
       "0  https://mdr.de/nachrichten/sachsen-anhalt/barr...   \n",
       "\n",
       "                                           image_url  \\\n",
       "0  https://cdn.mdr.de/kultur/ausstellungen/der-os...   \n",
       "0  https://cdn.mdr.de/sachsen-anhalt-heute/mdr-sa...   \n",
       "\n",
       "                                   image_description  \\\n",
       "0  Große und kleine Videoprojektionen mit mehrere...   \n",
       "0                  MDR Reporterin während Interview.   \n",
       "\n",
       "                                               match  \\\n",
       "0  https://www.mdr.de/nachrichten-leicht/leichte-...   \n",
       "0  https://www.mdr.de/nachrichten-leicht/leichte-...   \n",
       "\n",
       "                                     audio_audio_url  \\\n",
       "0  https://odmdr-a.akamaihd.net/mp4audiomobil/d/d...   \n",
       "0  https://odmdr-a.akamaihd.net/mp4audiomobil/d/d...   \n",
       "\n",
       "                                  audio_download_url audio_duration  \\\n",
       "0  https://odmdr-a.akamaihd.net/mp4audiomobil/d/d...           None   \n",
       "0  https://odmdr-a.akamaihd.net/mp4audiomobil/d/d...           None   \n",
       "\n",
       "                                                text  \n",
       "0  <h3>Bitterfeld-Wolfen: Kunstfestival Osten in ...  \n",
       "0  <h3>Mobile Lokalredaktionen in drei Orten: Wo ...  "
      ]
     },
     "execution_count": 2,
     "metadata": {},
     "output_type": "execute_result"
    }
   ],
   "source": [
    "# always define if you want to work in \"easy\"/\"e\" or \"hard\"/\"h\" \n",
    "dh.head(\"h\", 2)"
   ]
  },
  {
   "cell_type": "code",
   "execution_count": 3,
   "metadata": {},
   "outputs": [
    {
     "data": {
      "text/html": [
       "<div>\n",
       "<style scoped>\n",
       "    .dataframe tbody tr th:only-of-type {\n",
       "        vertical-align: middle;\n",
       "    }\n",
       "\n",
       "    .dataframe tbody tr th {\n",
       "        vertical-align: top;\n",
       "    }\n",
       "\n",
       "    .dataframe thead th {\n",
       "        text-align: right;\n",
       "    }\n",
       "</style>\n",
       "<table border=\"1\" class=\"dataframe\">\n",
       "  <thead>\n",
       "    <tr style=\"text-align: right;\">\n",
       "      <th></th>\n",
       "      <th>title</th>\n",
       "      <th>description</th>\n",
       "      <th>kicker</th>\n",
       "      <th>date</th>\n",
       "      <th>url</th>\n",
       "      <th>image_url</th>\n",
       "      <th>image_description</th>\n",
       "      <th>match</th>\n",
       "      <th>audio_audio_url</th>\n",
       "      <th>audio_download_url</th>\n",
       "      <th>audio_duration</th>\n",
       "      <th>text</th>\n",
       "    </tr>\n",
       "  </thead>\n",
       "  <tbody>\n",
       "    <tr>\n",
       "      <th>0</th>\n",
       "      <td>Der Präsident von Frankreich besucht das Bunde...</td>\n",
       "      <td>\\nHeute kommt ein wichtiger &lt;a href=\"https://w...</td>\n",
       "      <td>Sachsen</td>\n",
       "      <td>2024-05-27</td>\n",
       "      <td>https://www.mdr.de/nachrichten-leicht/leichte-...</td>\n",
       "      <td>https://cdn.mdr.de/nachrichten/sachsen/dresden...</td>\n",
       "      <td>Emmanuel Macron, Präsident Frankreichs, mit Br...</td>\n",
       "      <td>https://mdr.de/nachrichten/sachsen/dresden/dre...</td>\n",
       "      <td>https://odmdr-a.akamaihd.net/mp4audiomobil/2/F...</td>\n",
       "      <td>https://odmdr-a.akamaihd.net/mp4audiomobil/2/F...</td>\n",
       "      <td>None</td>\n",
       "      <td>\\nHeute kommt ein wichtiger &lt;a href=\"https://w...</td>\n",
       "    </tr>\n",
       "  </tbody>\n",
       "</table>\n",
       "</div>"
      ],
      "text/plain": [
       "                                               title  \\\n",
       "0  Der Präsident von Frankreich besucht das Bunde...   \n",
       "\n",
       "                                         description   kicker        date  \\\n",
       "0  \\nHeute kommt ein wichtiger <a href=\"https://w...  Sachsen  2024-05-27   \n",
       "\n",
       "                                                 url  \\\n",
       "0  https://www.mdr.de/nachrichten-leicht/leichte-...   \n",
       "\n",
       "                                           image_url  \\\n",
       "0  https://cdn.mdr.de/nachrichten/sachsen/dresden...   \n",
       "\n",
       "                                   image_description  \\\n",
       "0  Emmanuel Macron, Präsident Frankreichs, mit Br...   \n",
       "\n",
       "                                               match  \\\n",
       "0  https://mdr.de/nachrichten/sachsen/dresden/dre...   \n",
       "\n",
       "                                     audio_audio_url  \\\n",
       "0  https://odmdr-a.akamaihd.net/mp4audiomobil/2/F...   \n",
       "\n",
       "                                  audio_download_url audio_duration  \\\n",
       "0  https://odmdr-a.akamaihd.net/mp4audiomobil/2/F...           None   \n",
       "\n",
       "                                                text  \n",
       "0  \\nHeute kommt ein wichtiger <a href=\"https://w...  "
      ]
     },
     "execution_count": 3,
     "metadata": {},
     "output_type": "execute_result"
    }
   ],
   "source": [
    "dh.get_first(\"e\")"
   ]
  },
  {
   "cell_type": "code",
   "execution_count": 4,
   "metadata": {},
   "outputs": [
    {
     "data": {
      "text/plain": [
       "['\\nHeute kommt ein wichtiger <a href=\"https://www.mdr.de/nachrichten-leicht/woerterbuch/glossar-politiker-100.html\" style=\"position: relative; cursor: pointer;\" title=\"Politiker oder Politikerin\"><strong>Politiker</strong></a> aus dem Land Frankreich<br/>nach Deutschland.<br/>Der wichtige Politiker ist der <a href=\"https://www.mdr.de/nachrichten-leicht/woerterbuch/glossar-praesident102.html\" style=\"position: relative; cursor: pointer;\" title=\"Präsident oder Präsidentin\"><strong>Präsident</strong></a> von Frankreich.<br/>Er heißt: Emmanuel Macron.\\n\\nEmmanuel Macron will das <a href=\"https://www.mdr.de/nachrichten-leicht/woerterbuch/glossar-bundesland-100.html\" style=\"position: relative; cursor: pointer;\" title=\"Bundes-Land\"><strong>Bundes-Land</strong></a> Sachsen besuchen.<br/>Er kommt am Montag.<br/>Und er bringt seine Frau Brigitte Macron mit.<br/>Zusammen wollen sie ein paar schöne Orte besuchen.<br/>Das ist zum Beispiel das <a href=\"https://www.mdr.de/nachrichten-leicht/woerterbuch/glossar-schloss-100.html\" style=\"position: relative; cursor: pointer;\" title=\"Schloss oder Schlösser\"><strong>Schloss</strong></a> Moritzburg.\\n\\nSpäter fahren Emmanuel und Brigitte Macron in die Stadt Dresden.<br/>Dort sprechen sie mit Frank-Walter Steinmeier.<br/>Er ist der <a href=\"https://www.mdr.de/nachrichten-leicht/woerterbuch/glossar-bundes-praesident-100.html\" style=\"position: relative; cursor: pointer;\" title=\"Bundes-Präsident\"><strong>Bundes-Präsident </strong></a>von Deutschland.<br/>Sie sprechen zum Beispiel:<br/>\\xa0\\xa0\\xa0 • Über <a href=\"https://www.mdr.de/nachrichten-leicht/woerterbuch/glossar-firma-100.html\" style=\"position: relative; cursor: pointer;\" title=\"Firma oder Firmen\"><strong>Firmen</strong></a> für <a href=\"https://www.mdr.de/nachrichten-leicht/woerterbuch/glossar-computer-chip-chips-100.html\" style=\"position: relative; cursor: pointer;\" title=\"Computer-Chip oder Computer-Chips\"><strong>Computer-Chips</strong></a> in <a href=\"https://www.mdr.de/nachrichten-leicht/woerterbuch/glossar-240.html\" style=\"position: relative; cursor: pointer;\" title=\"Europa\"><strong>Europa</strong></a>.<br/>\\xa0\\xa0\\xa0 • Und darüber,<br/>\\xa0\\xa0\\xa0\\xa0\\xa0\\xa0wie die Politiker diesen Firmen helfen können.\\n\\nDanach gibt es ein besonderes Fest in Dresden.<br/>Es heißt: Fête de l’Europe.<br/>Das wird so aus-gesprochen: Fett\\xa0 dö\\xa0 lö ropp.<br/>Das Fest ist auf dem Platz vor der <a href=\"https://www.mdr.de/nachrichten-leicht/woerterbuch/glossar-frauen-kirche-100.html\" style=\"position: relative; cursor: pointer;\" title=\"Frauen-Kirche\"><strong>Frauen-Kirche</strong></a>.<br/>Emmanuel Macron wird dort eine wichtige <a href=\"https://www.mdr.de/nachrichten-leicht/woerterbuch/glossar-rede-halten-100.html\" style=\"position: relative; cursor: pointer;\" title=\"Rede halten\"><strong>Rede halten</strong></a>.<br/>Die ist vor allem an junge Menschen gerichtet.\\n\\nEmmanuel Macron wollte schon letztes Jahr nach Sachsen kommen.<br/>Aber er konnte erst jetzt kommen.<br/>Denn letztes Jahr gab es in Frankreich viele <a href=\"https://www.mdr.de/nachrichten-leicht/woerterbuch/glossar-demonstration-100.html\" style=\"position: relative; cursor: pointer;\" title=\"Demo oder Demonstration\"><strong>Demonstrationen</strong></a>.<br/>Emmanuel Macron musste dann mit den <a href=\"https://www.mdr.de/nachrichten-leicht/woerterbuch/glossar-demonstranten-100.html\" style=\"position: relative; cursor: pointer;\" title=\"Demonstranten\"><strong>Demonstranten</strong></a> sprechen.<br/>Deshalb konnte er nicht nach Sachsen kommen.\\n']"
      ]
     },
     "execution_count": 4,
     "metadata": {},
     "output_type": "execute_result"
    }
   ],
   "source": [
    "list(dh.get_first(\"e\")[\"text\"])"
   ]
  },
  {
   "cell_type": "markdown",
   "metadata": {},
   "source": [
    "### SEARCH"
   ]
  },
  {
   "cell_type": "code",
   "execution_count": 5,
   "metadata": {},
   "outputs": [],
   "source": [
    "dh.search_by(\"e\", \"title\",\"Die NATO feiert ihren 75. Geburtstag\")\n",
    "dh.search_by(\"e\", \"date\",  \"29.03.2024\")\n",
    "dh.search_by(\"e\", \"url\", \"https://www.mdr.de/nachrichten-leicht/leichte-sprache-sachsen-macron-in-dresden-100.html\")\n",
    "# if we search something that does not exist this will return nothing\n",
    "dh.search_by(\"e\", \"url\", \"blabla\")\n"
   ]
  },
  {
   "cell_type": "code",
   "execution_count": 6,
   "metadata": {},
   "outputs": [
    {
     "name": "stdout",
     "output_type": "stream",
     "text": [
      "False True\n"
     ]
    }
   ],
   "source": [
    "# comfort search to be used in a scraper to not waste time scraping duplicates\n",
    "print(dh.is_already_saved(\"e\", \"blabla\"), dh.is_already_saved(\"e\", \"https://www.mdr.de/nachrichten-leicht/leichte-sprache-sachsen-macron-in-dresden-100.html\"))"
   ]
  },
  {
   "cell_type": "markdown",
   "metadata": {},
   "source": [
    "### WRITE"
   ]
  },
  {
   "cell_type": "code",
   "execution_count": 7,
   "metadata": {},
   "outputs": [],
   "source": [
    "text = \"Text\"\n",
    "html = \"<p>Text</p>\"\n",
    "metadata = {\n",
    "    \"title\": None,\n",
    "    \"description\": None,\n",
    "    \"kicker\": None,\n",
    "    \"date\": None,\n",
    "    \"url\": None,\n",
    "    \"image_url\": None,\n",
    "    \"image_description\": None,\n",
    "    \"audio\": None,\n",
    "    \"match\": None,\n",
    "}\n",
    "\n",
    "dh.save(\"e\", text, html, metadata, download_audio=False)"
   ]
  }
 ],
 "metadata": {
  "kernelspec": {
   "display_name": "base",
   "language": "python",
   "name": "python3"
  },
  "language_info": {
   "codemirror_mode": {
    "name": "ipython",
    "version": 3
   },
   "file_extension": ".py",
   "mimetype": "text/x-python",
   "name": "python",
   "nbconvert_exporter": "python",
   "pygments_lexer": "ipython3",
   "version": "3.9.19"
  }
 },
 "nbformat": 4,
 "nbformat_minor": 2
}
