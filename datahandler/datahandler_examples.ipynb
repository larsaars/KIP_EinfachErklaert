{
 "cells": [
  {
   "cell_type": "code",
   "execution_count": 1,
   "metadata": {},
   "outputs": [],
   "source": [
    "import os\n",
    "from DataHandler import DataHandler\n",
    "\n",
    "# change dir since we are in a subfolder \n",
    "os.chdir(os.path.dirname(os.getcwd()))\n",
    "\n",
    "# Init the data handler to your source\n",
    "dh = DataHandler(\"mdr\")"
   ]
  },
  {
   "cell_type": "markdown",
   "metadata": {},
   "source": [
    "### READ"
   ]
  },
  {
   "cell_type": "code",
   "execution_count": 2,
   "metadata": {},
   "outputs": [],
   "source": [
    "# always define if you want to work in \"easy\"/\"e\" or \"hard\"/\"h\" \n",
    "dh.head(\"h\", 2)"
   ]
  },
  {
   "cell_type": "code",
   "execution_count": 3,
   "metadata": {},
   "outputs": [],
   "source": [
    "dh.get_first(\"e\")"
   ]
  },
  {
   "cell_type": "code",
   "execution_count": 4,
   "metadata": {},
   "outputs": [],
   "source": [
    "list(dh.get_first(\"e\")[\"text\"])"
   ]
  },
  {
   "cell_type": "markdown",
   "metadata": {},
   "source": [
    "### SEARCH"
   ]
  },
  {
   "cell_type": "code",
   "execution_count": 5,
   "metadata": {},
   "outputs": [],
   "source": [
    "dh.search_by(\"e\", \"title\",\"Die NATO feiert ihren 75. Geburtstag\")\n",
    "dh.search_by(\"e\", \"date\",  \"29.03.2024\")\n",
    "dh.search_by(\"e\", \"url\", \"https://www.mdr.de/nachrichten-leicht/leichte-sprache-sachsen-macron-in-dresden-100.html\")\n",
    "# if we search something that does not exist this will return nothing\n",
    "dh.search_by(\"e\", \"url\", \"blabla\")\n"
   ]
  },
  {
   "cell_type": "code",
   "execution_count": 6,
   "metadata": {},
   "outputs": [],
   "source": [
    "# comfort search to be used in a scraper to not waste time scraping duplicates\n",
    "print(dh.is_already_saved(\"e\", \"blabla\"), dh.is_already_saved(\"e\", \"https://www.mdr.de/nachrichten-leicht/leichte-sprache-sachsen-macron-in-dresden-100.html\"))"
   ]
  },
  {
   "cell_type": "markdown",
   "metadata": {},
   "source": [
    "### WRITE"
   ]
  },
  {
   "cell_type": "code",
   "execution_count": 7,
   "metadata": {},
   "outputs": [],
   "source": [
    "text = \"Text\"\n",
    "html = \"<p>Text</p>\"\n",
    "metadata = {\n",
    "    \"title\": None,\n",
    "    \"description\": None,\n",
    "    \"kicker\": None,\n",
    "    \"date\": None,\n",
    "    \"url\": None,\n",
    "    \"image_url\": None,\n",
    "    \"image_description\": None,\n",
    "    \"audio\": None,\n",
    "    \"match\": None,\n",
    "}\n",
    "\n",
    "dh.save(\"e\", text, html, metadata, download_audio=False)"
   ]
  }
 ],
 "metadata": {
  "kernelspec": {
   "display_name": "base",
   "language": "python",
   "name": "python3"
  },
  "language_info": {
   "codemirror_mode": {
    "name": "ipython",
    "version": 3
   },
   "file_extension": ".py",
   "mimetype": "text/x-python",
   "name": "python",
   "nbconvert_exporter": "python",
   "pygments_lexer": "ipython3",
   "version": "3.9.19"
  }
 },
 "nbformat": 4,
 "nbformat_minor": 2
}
