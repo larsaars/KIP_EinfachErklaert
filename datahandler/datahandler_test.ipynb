{
 "cells": [
  {
   "cell_type": "code",
   "execution_count": 1,
   "metadata": {},
   "outputs": [
    {
     "data": {
      "text/html": [
       "<div>\n",
       "<style scoped>\n",
       "    .dataframe tbody tr th:only-of-type {\n",
       "        vertical-align: middle;\n",
       "    }\n",
       "\n",
       "    .dataframe tbody tr th {\n",
       "        vertical-align: top;\n",
       "    }\n",
       "\n",
       "    .dataframe thead th {\n",
       "        text-align: right;\n",
       "    }\n",
       "</style>\n",
       "<table border=\"1\" class=\"dataframe\">\n",
       "  <thead>\n",
       "    <tr style=\"text-align: right;\">\n",
       "      <th></th>\n",
       "      <th>title</th>\n",
       "      <th>description</th>\n",
       "      <th>kicker</th>\n",
       "      <th>date</th>\n",
       "      <th>url</th>\n",
       "      <th>image_url</th>\n",
       "      <th>image_description</th>\n",
       "      <th>audio</th>\n",
       "      <th>match</th>\n",
       "      <th>text</th>\n",
       "    </tr>\n",
       "  </thead>\n",
       "  <tbody>\n",
       "    <tr>\n",
       "      <th>0</th>\n",
       "      <td>29 Tote bei Überschwemmungen</td>\n",
       "      <td>Die Zahl der Todesopfer nach den Regenfällen u...</td>\n",
       "      <td>Brasilien</td>\n",
       "      <td>03.05.2024</td>\n",
       "      <td>https://www.deutschlandfunk.de/29-tote-bei-ueb...</td>\n",
       "      <td>https://bilder.deutschlandfunk.de/09/93/81/ec/...</td>\n",
       "      <td>Im brasilianischen Bundesstaat Rio Grande do S...</td>\n",
       "      <td>None</td>\n",
       "      <td>None</td>\n",
       "      <td>60 weitere werden noch vermisst, wie die örtli...</td>\n",
       "    </tr>\n",
       "    <tr>\n",
       "      <th>0</th>\n",
       "      <td>Banken geben weiter Geld für Kohle</td>\n",
       "      <td>Weltweit haben Banken in den vergangenen drei ...</td>\n",
       "      <td>NGO-Studie</td>\n",
       "      <td>03.05.2024</td>\n",
       "      <td>https://www.deutschlandfunk.de/banken-geben-we...</td>\n",
       "      <td>https://bilder.deutschlandfunk.de/FI/LE/_8/07/...</td>\n",
       "      <td>Zahlreiche Banken investieren laut einer Studi...</td>\n",
       "      <td>None</td>\n",
       "      <td>None</td>\n",
       "      <td>70 Prozent der Kredite entfallen demnach auf C...</td>\n",
       "    </tr>\n",
       "    <tr>\n",
       "      <th>0</th>\n",
       "      <td>Besatzung von beschlagnahmtem Containerschiff ...</td>\n",
       "      <td>Fast drei Wochen nach der Beschlagnahmung des ...</td>\n",
       "      <td>Iran</td>\n",
       "      <td>03.05.2024</td>\n",
       "      <td>https://www.deutschlandfunk.de/besatzung-von-b...</td>\n",
       "      <td>None</td>\n",
       "      <td>None</td>\n",
       "      <td>None</td>\n",
       "      <td>None</td>\n",
       "      <td>Außenminister Amirabdollahian begründete den S...</td>\n",
       "    </tr>\n",
       "    <tr>\n",
       "      <th>0</th>\n",
       "      <td>Biden kritisiert pro-palästinensische Proteste...</td>\n",
       "      <td>US-Präsident Biden hat die pro-palästinensisch...</td>\n",
       "      <td>Vereinigte Staaten</td>\n",
       "      <td>03.05.2024</td>\n",
       "      <td>https://www.deutschlandfunk.de/biden-kritisier...</td>\n",
       "      <td>https://bilder.deutschlandfunk.de/df/12/1b/0f/...</td>\n",
       "      <td>Protestcamp an der Columbia University in New ...</td>\n",
       "      <td>None</td>\n",
       "      <td>None</td>\n",
       "      <td>Biden sagte in Washington, es gebe ein Recht a...</td>\n",
       "    </tr>\n",
       "    <tr>\n",
       "      <th>0</th>\n",
       "      <td>Bundesregierung: Russland für Cyber-Angriff au...</td>\n",
       "      <td>Die Bundesregierung macht eine Einheit des rus...</td>\n",
       "      <td>Sicherheit</td>\n",
       "      <td>03.05.2024</td>\n",
       "      <td>https://www.deutschlandfunk.de/bundesregierung...</td>\n",
       "      <td>https://bilder.deutschlandfunk.de/FI/LE/_4/93/...</td>\n",
       "      <td>Die SPD hatte im Juni 2023 bekannt gegeben, da...</td>\n",
       "      <td>None</td>\n",
       "      <td>None</td>\n",
       "      <td>Die SPD hatte im Juni 2023 bekannt gegeben, da...</td>\n",
       "    </tr>\n",
       "  </tbody>\n",
       "</table>\n",
       "</div>"
      ],
      "text/plain": [
       "                                               title  \\\n",
       "0                       29 Tote bei Überschwemmungen   \n",
       "0                 Banken geben weiter Geld für Kohle   \n",
       "0  Besatzung von beschlagnahmtem Containerschiff ...   \n",
       "0  Biden kritisiert pro-palästinensische Proteste...   \n",
       "0  Bundesregierung: Russland für Cyber-Angriff au...   \n",
       "\n",
       "                                         description              kicker  \\\n",
       "0  Die Zahl der Todesopfer nach den Regenfällen u...           Brasilien   \n",
       "0  Weltweit haben Banken in den vergangenen drei ...          NGO-Studie   \n",
       "0  Fast drei Wochen nach der Beschlagnahmung des ...                Iran   \n",
       "0  US-Präsident Biden hat die pro-palästinensisch...  Vereinigte Staaten   \n",
       "0  Die Bundesregierung macht eine Einheit des rus...          Sicherheit   \n",
       "\n",
       "         date                                                url  \\\n",
       "0  03.05.2024  https://www.deutschlandfunk.de/29-tote-bei-ueb...   \n",
       "0  03.05.2024  https://www.deutschlandfunk.de/banken-geben-we...   \n",
       "0  03.05.2024  https://www.deutschlandfunk.de/besatzung-von-b...   \n",
       "0  03.05.2024  https://www.deutschlandfunk.de/biden-kritisier...   \n",
       "0  03.05.2024  https://www.deutschlandfunk.de/bundesregierung...   \n",
       "\n",
       "                                           image_url  \\\n",
       "0  https://bilder.deutschlandfunk.de/09/93/81/ec/...   \n",
       "0  https://bilder.deutschlandfunk.de/FI/LE/_8/07/...   \n",
       "0                                               None   \n",
       "0  https://bilder.deutschlandfunk.de/df/12/1b/0f/...   \n",
       "0  https://bilder.deutschlandfunk.de/FI/LE/_4/93/...   \n",
       "\n",
       "                                   image_description audio match  \\\n",
       "0  Im brasilianischen Bundesstaat Rio Grande do S...  None  None   \n",
       "0  Zahlreiche Banken investieren laut einer Studi...  None  None   \n",
       "0                                               None  None  None   \n",
       "0  Protestcamp an der Columbia University in New ...  None  None   \n",
       "0  Die SPD hatte im Juni 2023 bekannt gegeben, da...  None  None   \n",
       "\n",
       "                                                text  \n",
       "0  60 weitere werden noch vermisst, wie die örtli...  \n",
       "0  70 Prozent der Kredite entfallen demnach auf C...  \n",
       "0  Außenminister Amirabdollahian begründete den S...  \n",
       "0  Biden sagte in Washington, es gebe ein Recht a...  \n",
       "0  Die SPD hatte im Juni 2023 bekannt gegeben, da...  "
      ]
     },
     "execution_count": 1,
     "metadata": {},
     "output_type": "execute_result"
    }
   ],
   "source": [
    "import os\n",
    "from DataHandler import DataHandler\n",
    "\n",
    "# change dir since we are in a subfolder \n",
    "os.chdir(os.path.dirname(os.getcwd()))\n",
    "\n",
    "# Test code for the DataHandler functions\n",
    "# results of pandas frames show nicer in jupyter\n",
    "dh = DataHandler(\"dlf\")\n",
    "\n",
    "#dh.get_first(\"e\")\n",
    "#dh.get_all(\"e\")\n",
    "dh.head(\"h\", 5)"
   ]
  },
  {
   "cell_type": "code",
   "execution_count": 2,
   "metadata": {},
   "outputs": [
    {
     "data": {
      "text/html": [
       "<div>\n",
       "<style scoped>\n",
       "    .dataframe tbody tr th:only-of-type {\n",
       "        vertical-align: middle;\n",
       "    }\n",
       "\n",
       "    .dataframe tbody tr th {\n",
       "        vertical-align: top;\n",
       "    }\n",
       "\n",
       "    .dataframe thead th {\n",
       "        text-align: right;\n",
       "    }\n",
       "</style>\n",
       "<table border=\"1\" class=\"dataframe\">\n",
       "  <thead>\n",
       "    <tr style=\"text-align: right;\">\n",
       "      <th></th>\n",
       "      <th>title</th>\n",
       "      <th>description</th>\n",
       "      <th>kicker</th>\n",
       "      <th>date</th>\n",
       "      <th>url</th>\n",
       "      <th>image_url</th>\n",
       "      <th>image_description</th>\n",
       "      <th>audio</th>\n",
       "      <th>match</th>\n",
       "      <th>text</th>\n",
       "    </tr>\n",
       "  </thead>\n",
       "  <tbody>\n",
       "    <tr>\n",
       "      <th>0</th>\n",
       "      <td>29 Tote bei Überschwemmungen</td>\n",
       "      <td>Die Zahl der Todesopfer nach den Regenfällen u...</td>\n",
       "      <td>Brasilien</td>\n",
       "      <td>03.05.2024</td>\n",
       "      <td>https://www.deutschlandfunk.de/29-tote-bei-ueb...</td>\n",
       "      <td>https://bilder.deutschlandfunk.de/09/93/81/ec/...</td>\n",
       "      <td>Im brasilianischen Bundesstaat Rio Grande do S...</td>\n",
       "      <td>None</td>\n",
       "      <td>None</td>\n",
       "      <td>60 weitere werden noch vermisst, wie die örtli...</td>\n",
       "    </tr>\n",
       "  </tbody>\n",
       "</table>\n",
       "</div>"
      ],
      "text/plain": [
       "                          title  \\\n",
       "0  29 Tote bei Überschwemmungen   \n",
       "\n",
       "                                         description     kicker        date  \\\n",
       "0  Die Zahl der Todesopfer nach den Regenfällen u...  Brasilien  03.05.2024   \n",
       "\n",
       "                                                 url  \\\n",
       "0  https://www.deutschlandfunk.de/29-tote-bei-ueb...   \n",
       "\n",
       "                                           image_url  \\\n",
       "0  https://bilder.deutschlandfunk.de/09/93/81/ec/...   \n",
       "\n",
       "                                   image_description audio match  \\\n",
       "0  Im brasilianischen Bundesstaat Rio Grande do S...  None  None   \n",
       "\n",
       "                                                text  \n",
       "0  60 weitere werden noch vermisst, wie die örtli...  "
      ]
     },
     "execution_count": 2,
     "metadata": {},
     "output_type": "execute_result"
    }
   ],
   "source": [
    "dh.get_first(\"h\")"
   ]
  },
  {
   "cell_type": "code",
   "execution_count": 3,
   "metadata": {},
   "outputs": [
    {
     "data": {
      "text/plain": [
       "['Die israelische Armee will eine Untersuchung von dem Angriff. Der israelische Ministerpräsident heißt Benjamin Netanjahu. Er sagt: Die Armee hat die Hilfs-Organisation aus Versehen getroffen. Er hat auch gesagt: So etwas passiert im Krieg. Netanjahu hat sich aber nicht für den Angriff entschuldigt. \\nPolitiker aus mehreren Ländern haben Israel für den Angriff kritisiert. Sie sagen: Wir wollen wissen, warum der Angriff passiert ist. Es sind unschuldige Menschen gestorben. Sie sagen auch: Israel schützt Helfer im Gaza-Streifen nicht genug. Die Hilfs-Organisation sagt: Die israelische Armee hat gewusst, dass wir dort unterwegs waren.\\n6 von den getöteten Helfern kamen aus dem Ausland. Sie kamen aus den Ländern Australien, Kanada, Polen und Groß-Britannien. Sie haben Essen an die Menschen im Gaza-Streifen verteilt. Die Hilfs-Organisation stoppt jetzt erstmal ihre Arbeit im Gaza-Streifen. Viele Menschen im Gaza-Streifen hungern. Die meisten anderen Organisationen fahren in viele Teile von dem Gaza-Streifen nicht. Es ist zu gefährlich.\\n']"
      ]
     },
     "execution_count": 3,
     "metadata": {},
     "output_type": "execute_result"
    }
   ],
   "source": [
    "list(dh.get_first(\"e\")[\"text\"])"
   ]
  },
  {
   "cell_type": "code",
   "execution_count": 4,
   "metadata": {},
   "outputs": [
    {
     "data": {
      "text/plain": [
       "'C:/Users/felix/OneDrive/Vorlesungen/6_Semester/KIP/KIP_EinfachErklaert\\\\data\\\\dlf\\\\easy\\\\26.04.2024-Spionage-Affaere_um_die_Partei_AfD'"
      ]
     },
     "execution_count": 4,
     "metadata": {},
     "output_type": "execute_result"
    }
   ],
   "source": [
    "dh.search_by(\"e\", \"url\", \"https://www.nachrichtenleicht.de/afd-spionageaffaere-krah-100.html\")\n"
   ]
  },
  {
   "cell_type": "code",
   "execution_count": 5,
   "metadata": {},
   "outputs": [],
   "source": [
    "dh.search_by(\"e\", \"url\", \"blabla\")"
   ]
  },
  {
   "cell_type": "code",
   "execution_count": 6,
   "metadata": {},
   "outputs": [
    {
     "data": {
      "text/plain": [
       "'C:/Users/felix/OneDrive/Vorlesungen/6_Semester/KIP/KIP_EinfachErklaert\\\\data\\\\dlf\\\\easy\\\\29.03.2024-Baerbock_fordert_mehr_Hilfe_fuer_Palaestinenser'"
      ]
     },
     "execution_count": 6,
     "metadata": {},
     "output_type": "execute_result"
    }
   ],
   "source": [
    "dh.search_by(\"e\", \"date\",  \"29.03.2024\")"
   ]
  },
  {
   "cell_type": "code",
   "execution_count": 7,
   "metadata": {},
   "outputs": [
    {
     "data": {
      "text/plain": [
       "'C:/Users/felix/OneDrive/Vorlesungen/6_Semester/KIP/KIP_EinfachErklaert\\\\data\\\\dlf\\\\easy\\\\05.04.2024-Die_NATO_feiert_ihren_75_Geburtstag'"
      ]
     },
     "execution_count": 7,
     "metadata": {},
     "output_type": "execute_result"
    }
   ],
   "source": [
    "dh.search_by(\"e\", \"title\",\"Die NATO feiert ihren 75. Geburtstag\")"
   ]
  },
  {
   "cell_type": "code",
   "execution_count": 8,
   "metadata": {},
   "outputs": [
    {
     "data": {
      "text/plain": [
       "False"
      ]
     },
     "execution_count": 8,
     "metadata": {},
     "output_type": "execute_result"
    }
   ],
   "source": [
    "dh.is_already_saved(\"e\", \"blabla\")"
   ]
  },
  {
   "cell_type": "code",
   "execution_count": 9,
   "metadata": {},
   "outputs": [
    {
     "data": {
      "text/plain": [
       "True"
      ]
     },
     "execution_count": 9,
     "metadata": {},
     "output_type": "execute_result"
    }
   ],
   "source": [
    "dh.is_already_saved(\"e\", \"https://www.nachrichtenleicht.de/afd-spionageaffaere-krah-100.html\")"
   ]
  },
  {
   "cell_type": "code",
   "execution_count": 10,
   "metadata": {},
   "outputs": [],
   "source": [
    "dh.search_by(\"e\", \"url\", \"https://www.deutschlandfunk.de/zahl-der-arbeitslosen-sinkt-im-april-um-20-102.html\")\n",
    "dh.search_by(\"e\", \"title\", \"Zahl der Arbeitslosen sinkt im April um 20.000\")"
   ]
  },
  {
   "cell_type": "code",
   "execution_count": 18,
   "metadata": {},
   "outputs": [
    {
     "name": "stdout",
     "output_type": "stream",
     "text": [
      "Time taken for search_by_url: 0.0020 seconds\n",
      "Time taken for search_by_title: 0.0071 seconds\n"
     ]
    }
   ],
   "source": [
    "import time\n",
    "\n",
    "# Start timing\n",
    "start_time_url = time.time()\n",
    "\n",
    "# Function call by URL\n",
    "dh.search_by(\"e\", \"url\", \"https://www.deutschlandfunk.de/zahl-der-arbeitslosen-sinkt-im-april-um-20-102.html\")\n",
    "\n",
    "# Measure time after function call\n",
    "elapsed_time_url = time.time() - start_time_url\n",
    "\n",
    "# Start timing\n",
    "start_time_title = time.time()\n",
    "\n",
    "# Function call by Title\n",
    "dh.search_by(\"e\", \"title\", \"Zahl der Arbeitslosen sinkt im April um 20.000\")\n",
    "\n",
    "# Measure time after function call\n",
    "elapsed_time_title = time.time() - start_time_title\n",
    "\n",
    "# Print the elapsed time for each function call\n",
    "print(f\"Time taken for search_by_url: {elapsed_time_url:.4f} seconds\")\n",
    "print(f\"Time taken for search_by_title: {elapsed_time_title:.4f} seconds\")\n"
   ]
  },
  {
   "cell_type": "code",
   "execution_count": null,
   "metadata": {},
   "outputs": [],
   "source": []
  }
 ],
 "metadata": {
  "kernelspec": {
   "display_name": "base",
   "language": "python",
   "name": "python3"
  },
  "language_info": {
   "codemirror_mode": {
    "name": "ipython",
    "version": 3
   },
   "file_extension": ".py",
   "mimetype": "text/x-python",
   "name": "python",
   "nbconvert_exporter": "python",
   "pygments_lexer": "ipython3",
   "version": "3.9.19"
  }
 },
 "nbformat": 4,
 "nbformat_minor": 2
}
