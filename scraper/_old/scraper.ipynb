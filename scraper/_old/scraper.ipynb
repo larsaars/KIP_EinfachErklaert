{
 "cells": [
  {
   "cell_type": "code",
   "execution_count": 1,
   "id": "82feecb8-214a-4b63-9352-27d9f2bb88c3",
   "metadata": {},
   "outputs": [],
   "source": [
    "import pandas as pd\n",
    "import os\n",
    "import requests\n",
    "from bs4 import BeautifulSoup"
   ]
  },
  {
   "cell_type": "code",
   "execution_count": 2,
   "id": "ca893a6a-95c9-46f3-80f0-af4213b2d96a",
   "metadata": {},
   "outputs": [],
   "source": [
    "hard_url = 'https://www.deutschlandfunk.de/nachrichten-100.html'\n",
    "easy_feed_url = 'https://www.nachrichtenleicht.de/api/partials/PaginatedArticles_NL?drsearch:currentItems=0&drsearch:itemsPerLoad=30&drsearch:partialProps={%22sophoraId%22:%22nachrichtenleicht-nachrichten-100%22}&drsearch:_ajax=1'"
   ]
  },
  {
   "cell_type": "code",
   "execution_count": 198,
   "id": "5a83b22a-3f50-485a-b326-f6a5d0e78a0d",
   "metadata": {},
   "outputs": [],
   "source": [
    "def get_soup (url):\n",
    "    try:\n",
    "        response = requests.get(url)\n",
    "    except Exception:\n",
    "        print('Failed fetching response. URL:', url)\n",
    "        return\n",
    "    return BeautifulSoup(response.text, 'html.parser')\n",
    "\n",
    "def get_articles_from_feed (feed):\n",
    "    article_refs = feed.find_all('article')\n",
    "    articles = []\n",
    "    for article in article_refs:\n",
    "        try:\n",
    "            url = article.find('a')['href']\n",
    "            headline = article.find('a')['title']\n",
    "        except Exception:\n",
    "            continue\n",
    "        try:\n",
    "            description = article.find('p', class_='article-info-content').text.strip()\n",
    "        except Exception:\n",
    "            description = None\n",
    "        try:\n",
    "            image_url = article.find('img')['src']\n",
    "        except Exception:\n",
    "            image_url = None\n",
    "        data = {'url': url, 'headline': headline, 'description': description, 'image_url': image_url}\n",
    "        articles.append(data)\n",
    "    return articles\n",
    "\n",
    "def get_article_from_url (url):\n",
    "    article_html = get_soup(url)\n",
    "    return article_html"
   ]
  },
  {
   "cell_type": "code",
   "execution_count": 248,
   "id": "f41d126f-6780-46bb-baf7-41d913feee46",
   "metadata": {},
   "outputs": [],
   "source": [
    "articles = get_articles_from_feed(get_soup(hard_url))"
   ]
  },
  {
   "cell_type": "code",
   "execution_count": 221,
   "id": "32500cfd-4534-4047-88d9-15948587dc39",
   "metadata": {},
   "outputs": [
    {
     "name": "stdout",
     "output_type": "stream",
     "text": [
      "https://www.nachrichtenleicht.de/gaza-angriff-auf-helfer-100.html\n"
     ]
    }
   ],
   "source": [
    "print(articles[1]['url'])\n",
    "save_article(get__article(articles[1]['url']), \"./easy\")"
   ]
  },
  {
   "cell_type": "code",
   "execution_count": 213,
   "id": "de37efc9-9833-4fb5-b3c6-683e5e8db5ba",
   "metadata": {},
   "outputs": [],
   "source": [
    "article = get_article_from_url(articles[1]['url'])\n"
   ]
  },
  {
   "cell_type": "code",
   "execution_count": 233,
   "id": "33731fb8-3904-4b34-8f53-7c75fbf563d0",
   "metadata": {},
   "outputs": [
    {
     "name": "stdout",
     "output_type": "stream",
     "text": [
      "True\n"
     ]
    }
   ],
   "source": [
    "article=get_article_from_url('https://www.nachrichtenleicht.de/tuerkei-wahl-110.html')\n",
    "if article.find(class_='js-audio'):\n",
    "    print(True)\n",
    "else:\n",
    "    print(False)"
   ]
  },
  {
   "cell_type": "code",
   "execution_count": 219,
   "id": "a5b66b3c-664a-4bed-9e0d-4f6305fc0d0a",
   "metadata": {},
   "outputs": [
    {
     "name": "stdout",
     "output_type": "stream",
     "text": [
      "https://ondemand-mp3.dradio.de/file/dradio/2024/04/05/nleicht_7_helfer_im_gaza_streifen_bei_angriff_getoetet_20240405.mp3\n",
      "https://download.deutschlandfunk.de/file/dradio/2024/04/05/nleicht_7_helfer_im_gaza_streifen_bei_angriff_getoetet_20240405.mp3\n"
     ]
    }
   ],
   "source": [
    "print(article.find(class_='js-audio')['href'])\n",
    "print(article.find(class_='js-audio')['data-audio-download-src'])"
   ]
  },
  {
   "cell_type": "code",
   "execution_count": 20,
   "id": "2d16f44c-66a1-4f99-b2c6-165087bcf262",
   "metadata": {},
   "outputs": [],
   "source": [
    "def get_article_content (article):\n",
    "    content = []\n",
    "    for child in article.find(class_='b-article-details').children:\n",
    "        if child.name == 'h2':\n",
    "            content.append(child.text)\n",
    "        if child.name == 'div':\n",
    "            content.append(child.text)\n",
    "    return '\\n'.join(content)"
   ]
  },
  {
   "cell_type": "code",
   "execution_count": 238,
   "id": "b5580f41-96c8-4711-b733-c81f996d868e",
   "metadata": {},
   "outputs": [],
   "source": [
    "def find_string (article, **kwargs):\n",
    "    try:\n",
    "        content = article.find(**kwargs).string\n",
    "    except Exception:\n",
    "        content = None\n",
    "    return content\n",
    "    \n",
    "def get_deutschlandfunk_metadata (article, article_url):\n",
    "    title  = find_class_string(article, class_='headline-title')\n",
    "    kicker = find_class_string(article, class_='headline-kicker')\n",
    "    date   = find_class_string(article, class_='article-header-author')\n",
    "    description = find_class_string(article, class_='article-header-description')\n",
    "    image_des   = find_class_string(article, 'figcaption')\n",
    "    try:\n",
    "        image_url = article.find('img')['src']\n",
    "        image_des = article.find('figcaption').string\n",
    "    except Exception:\n",
    "        image_url = None\n",
    "        image_des = None\n",
    "    metadata = {'title': title, 'description': description, 'kicker': kicker, 'date': date, 'url': article_url, 'image_url': image_url, 'image_description': image_des}\n",
    "    return metadata\n",
    "\n",
    "def get_nachrichtenleicht_audio (article):\n",
    "    try:\n",
    "        audio = article.find(class_='js-audio')\n",
    "    except Exception:\n",
    "        return None\n",
    "    if not audio:\n",
    "        return None\n",
    "    return {'audio_url': audio['href'], 'download_url': audio['data-audio-download-src'], 'duration': audio['data-audioduration']}\n",
    "\n",
    "def get_nachrichtenleicht_metadata (article, article_url):\n",
    "    title  = find_class_string(article, class_='article-header-title')\n",
    "    kicker = find_class_string(article, class_='headline-kicker')\n",
    "    date   = find_class_string(article, class_='article-header-author')\n",
    "    description = find_class_string(article, class_='article-header-description')\n",
    "    image_des   = find_class_string(article, 'figcaption')\n",
    "    audio_data  = get_nachrichtenleicht_audio(article)\n",
    "    try:\n",
    "        image_url = article.find('img')['src']\n",
    "        image_des = article.find('figcaption').string\n",
    "    except Exception:\n",
    "        image_url = None\n",
    "        image_des = None\n",
    "    metadata = {'title': title, 'description': description, 'kicker': kicker, 'date': date, 'url': article_url, 'audio': audio_data, 'image_url': image_url, 'image_description': image_des}\n",
    "    return metadata\n",
    "    \n",
    "def get_deutschlandfunk_article (url):\n",
    "    article = get_article_from_url(url)\n",
    "    content = get_article_content(article)\n",
    "    metadata = get_deutschlandfunk_metadata(article, url)\n",
    "    article_data = {'metadata': metadata, 'content': content}\n",
    "    return article_data\n",
    "\n",
    "def get_nachrichtenleicht_article (url):\n",
    "    article = get_article_from_url(url)\n",
    "    content = get_article_content(article)\n",
    "    metadata = get_nachrichtenleicht_metadata(article, url)\n",
    "    article_data = {'metadata': metadata, 'content': content}\n",
    "    return article_data"
   ]
  },
  {
   "cell_type": "code",
   "execution_count": 244,
   "id": "bcb42167-8d07-4c32-ad3d-87b4c5a5a747",
   "metadata": {},
   "outputs": [],
   "source": [
    "from datetime import datetime\n",
    "import json\n",
    "\n",
    "def create_filepath (directory, date, title):\n",
    "    date = datetime.strptime(date, \"%d.%m.%Y\").strftime(\"%Y-%m-%d\")\n",
    "    return os.path.join(directory, date+'-'+title.replace(\" \", \"_\"))\n",
    "\n",
    "def initialize_directory (filepath):\n",
    "    if not os.path.exists(filepath):\n",
    "        os.makedirs(filepath)\n",
    "\n",
    "def save_content (content, filepath):\n",
    "    filepath = os.path.join(filepath, 'content.txt')\n",
    "    file = open(filepath, \"w\")\n",
    "    file.write(content)\n",
    "\n",
    "def save_audio (metadata, filepath):\n",
    "    filepath = os.path.join(filepath, 'audio.mp3')\n",
    "    audio = metadata['audio']\n",
    "    if audio:\n",
    "        mp3 = requests.get(audio['download_url'])\n",
    "        with open(filepath, 'wb') as file:\n",
    "            file.write(mp3.content)\n",
    "\n",
    "def save_metadata (metadata, filepath):\n",
    "    filepath = os.path.join(filepath, 'metadata.json')\n",
    "    file = open(filepath, \"w\")\n",
    "    file.write(json.dumps(metadata, indent=4))\n",
    "    \n",
    "def save_article (article_data, directory):\n",
    "    metadata = article_data['metadata']\n",
    "    filepath = create_filepath(directory, metadata['date'], metadata['title'])\n",
    "    initialize_directory(filepath)\n",
    "    save_content(article_data['content'], filepath)\n",
    "    save_metadata(metadata, filepath)\n",
    "    save_audio(metadata, filepath)\n",
    "    return"
   ]
  },
  {
   "cell_type": "code",
   "execution_count": 249,
   "id": "180d0bbf-a4f8-4689-8120-60a33e44013e",
   "metadata": {},
   "outputs": [
    {
     "name": "stdout",
     "output_type": "stream",
     "text": [
      "https://www.deutschlandfunk.de/industrieproduktion-in-deutschland-steigt-zum-zweiten-mal-in-folge-an-100.html\n",
      "https://www.deutschlandfunk.de/bundesvorstand-muessen-zum-jetzigen-zeitpunkt-von-unschuld-bystrons-ausgehen-104.html\n",
      "https://www.deutschlandfunk.de/vorauskommando-nach-litauen-aufgebrochen-102.html\n",
      "https://www.deutschlandfunk.de/ehemaliger-botschafter-ganns-mandat-fuer-blauhelmtruppe-haette-dem-morden-in-ruanda-entgegenwirken-k-100.html\n",
      "https://www.deutschlandfunk.de/sanierung-maroder-bruecken-und-autobahnen-wird-teurer-100.html\n",
      "https://www.deutschlandfunk.de/cdu-landeschef-baldauf-sieht-handlungsbedarf-nach-antisemitischen-aeusserungen-einer-moderatorin-100.html\n",
      "https://www.deutschlandfunk.de/auch-us-regierung-bewilligt-milliarden-beihilfe-fuer-ansiedlung-von-taiwanesischem-halbleiter-konzer-100.html\n",
      "https://www.deutschlandfunk.de/13-jaehriger-in-geschlossener-einrichtung-100.html\n",
      "https://www.deutschlandfunk.de/grundsatz-erklaerung-abtreibung-leihmutterschaft-und-geschlechtsumwandlung-sind-verstoesse-gegen-die-102.html\n",
      "https://www.deutschlandfunk.de/bundeskanzler-scholz-trifft-praesident-xi-sowie-premierminister-qiang-102.html\n",
      "https://www.deutschlandfunk.de/antiziganismusbeauftragter-sieht-fortschritte-im-kampf-gegen-diskriminierung-102.html\n",
      "https://www.deutschlandfunk.de/bundesregierung-erhoeht-druck-auf-temu-100.html\n",
      "https://www.deutschlandfunk.de/baubeginn-fuer-fabrik-des-abnehmspritzen-herstellers-eli-lilly-milliarden-investment-in-alzey-100.html\n",
      "https://www.deutschlandfunk.de/verkehrsverbaende-fordern-eine-milliarde-euro-pro-jahr-fuer-radinfrastruktur-100.html\n",
      "https://www.deutschlandfunk.de/erfolgreiche-schlichtung-fuer-luftsicherheitspersonal-wohl-keine-streiks-100.html\n",
      "https://www.deutschlandfunk.de/hilfsorganisation-aerzte-ohne-grenzen-beklagt-desolate-lage-100.html\n",
      "https://www.deutschlandfunk.de/exporte-im-februar-gesunken-102.html\n",
      "https://www.deutschlandfunk.de/unterschiedliche-bewertungen-zum-stand-der-verhandlungen-ueber-waffenruhe-102.html\n",
      "https://www.deutschlandfunk.de/russischer-aussenminister-lawrow-zu-besuch-in-china-eingetroffen-102.html\n",
      "https://www.deutschlandfunk.de/wieder-russische-angriffe-auf-ukrainische-infrastruktur-unter-anderem-in-odessa-und-mykolajiw-102.html\n",
      "https://www.deutschlandfunk.de/politiker-fordern-konsequenzen-aus-kriminalstatistik-100.html\n",
      "https://www.deutschlandfunk.de/pis-partei-laut-prognose-staerkste-kraft-104.html\n",
      "https://www.deutschlandfunk.de/palaestinenser-nach-38-jahren-haft-in-israelischen-gefaengnissen-gestorben-amnesty-international-bek-100.html\n",
      "https://www.deutschlandfunk.de/brasiliens-justiz-leitet-untersuchung-gegen-musk-ein-100.html\n",
      "https://www.deutschlandfunk.de/weiterer-aufklaerungssatellit-in-orbit-gebracht-100.html\n",
      "https://www.deutschlandfunk.de/spd-politiker-mueller-schlaegt-amnestie-fuer-verstoesse-gegen-corona-regeln-vor-100.html\n",
      "https://www.deutschlandfunk.de/tausende-demonstrieren-in-jerusalem-fuer-rueckkehr-der-geiseln-104.html\n",
      "https://www.deutschlandfunk.de/mexiko-zieht-nach-stuermung-von-botschaft-in-ecuador-vor-internationalen-gerichtshof-100.html\n",
      "https://www.deutschlandfunk.de/familienministerin-paus-nennt-5-000-neue-stellen-lediglich-prognose-100.html\n",
      "https://www.deutschlandfunk.de/triebswerksverkleidung-einer-boeing-737-loest-sich-beim-start-102.html\n",
      "https://www.deutschlandfunk.de/mehr-als-90-tote-bei-schiffsunglueck-102.html\n",
      "https://www.deutschlandfunk.de/angriffe-auf-atomkraftwerk-saporischschja-iaea-spricht-von-schwerwiegendem-vorfall-104.html\n",
      "https://www.deutschlandfunk.de/selenskyj-ohne-weitere-us-hilfen-wird-die-ukraine-aufhoeren-zu-existieren-102.html\n",
      "https://www.deutschlandfunk.de/anteil-oeffentlicher-finanzmittel-bei-afd-am-hoechsten-110.html\n",
      "https://www.deutschlandfunk.de/usa-gehen-gegen-huthi-angriffe-vor-miliz-berichtet-von-erneuten-attacken-auf-schiffe-104.html\n",
      "https://www.deutschlandfunk.de/hochwasser-des-ural-notstand-in-russland-und-kasachstan-110.html\n",
      "https://www.deutschlandfunk.de/in-der-nordhaelfte-regnerisch-im-sueden-trocken-144.html\n"
     ]
    }
   ],
   "source": [
    "for article in articles:\n",
    "    print(article['url'])\n",
    "    save_article(get_nachrichtenleicht_article(article['url']), \"./hard/deutschlandfunk\")"
   ]
  },
  {
   "cell_type": "code",
   "execution_count": 2,
   "id": "475b3299-a80e-4678-b2af-a60627140fa2",
   "metadata": {},
   "outputs": [
    {
     "data": {
      "text/plain": [
       "-288872309790296046"
      ]
     },
     "execution_count": 2,
     "metadata": {},
     "output_type": "execute_result"
    }
   ],
   "source": [
    "hash('https://www.nachrichtenleicht.de/tesla-brandanschlag-100.html')"
   ]
  }
 ],
 "metadata": {
  "kernelspec": {
   "display_name": "Python 3 (ipykernel)",
   "language": "python",
   "name": "python3"
  },
  "language_info": {
   "codemirror_mode": {
    "name": "ipython",
    "version": 3
   },
   "file_extension": ".py",
   "mimetype": "text/x-python",
   "name": "python",
   "nbconvert_exporter": "python",
   "pygments_lexer": "ipython3",
   "version": "3.12.2"
  }
 },
 "nbformat": 4,
 "nbformat_minor": 5
}
