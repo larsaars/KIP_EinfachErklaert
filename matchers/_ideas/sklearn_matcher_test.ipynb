{
 "cells": [
  {
   "cell_type": "code",
   "execution_count": null,
   "metadata": {},
   "outputs": [],
   "source": [
    "import pandas as pd\n",
    "from sklearn.feature_extraction.text import TfidfVectorizer\n",
    "from sklearn.decomposition import NMF\n",
    "from sklearn.preprocessing import normalize\n",
    "from sklearn.metrics.pairwise import cosine_similarity\n",
    "import os\n",
    "import datahandler.DataHandler\n",
    "\n",
    "os.chdir(os.path.dirname(os.getcwd()))"
   ]
  },
  {
   "cell_type": "code",
   "execution_count": null,
   "metadata": {},
   "outputs": [],
   "source": [
    "# Load your datasets\n",
    "# change dir since we are in a subfolder \n",
    "\n",
    "\n",
    "# Test code for the DataHandler functions\n",
    "# results of pandas frames show nicer in jupyter\n",
    "dh = DataHandler(\"dlf\")\n",
    "easy_articles = pd.read_csv('easy_articles.csv')\n",
    "normal_articles = pd.read_csv('normal_articles.csv')"
   ]
  },
  {
   "cell_type": "code",
   "execution_count": null,
   "metadata": {},
   "outputs": [],
   "source": [
    "\n",
    "# Combine the datasets for joint processing\n",
    "all_articles = pd.concat([easy_articles['text'], normal_articles['text']])\n",
    "\n",
    "# Vectorize the text using TF-IDF\n",
    "tfidf_vectorizer = TfidfVectorizer(stop_words='english', max_features=1000)\n",
    "tfidf_matrix = tfidf_vectorizer.fit_transform(all_articles)\n",
    "\n",
    "# Apply NMF for topic modeling\n",
    "nmf = NMF(n_components=10, random_state=1)\n",
    "nmf_features = nmf.fit_transform(tfidf_matrix)\n",
    "nmf_features = normalize(nmf_features)\n",
    "\n",
    "# Separate the transformed features back into easy and normal sets\n",
    "easy_features = nmf_features[:len(easy_articles)]\n",
    "normal_features = nmf_features[len(easy_articles):]\n",
    "\n",
    "# Compute cosine similarity between easy and normal articles\n",
    "similarity_matrix = cosine_similarity(easy_features, normal_features)\n",
    "\n",
    "# Find the best matches\n",
    "matches = similarity_matrix.argmax(axis=1)\n",
    "\n",
    "# Create a DataFrame to display matches\n",
    "matches_df = pd.DataFrame({\n",
    "    'Easy Article': easy_articles['text'],\n",
    "    'Normal Article': normal_articles.iloc[matches]['text']\n",
    "})\n",
    "\n",
    "# Display the matches\n",
    "print(matches_df.head())\n",
    "\n",
    "# Optionally save the matches to a CSV file\n",
    "matches_df.to_csv('matched_articles.csv', index=False)\n"
   ]
  }
 ],
 "metadata": {
  "kernelspec": {
   "display_name": "base",
   "language": "python",
   "name": "python3"
  },
  "language_info": {
   "name": "python",
   "version": "3.9.19"
  }
 },
 "nbformat": 4,
 "nbformat_minor": 2
}
