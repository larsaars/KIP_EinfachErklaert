{
 "cells": [
  {
   "cell_type": "code",
   "execution_count": 1,
   "id": "0d52f84e-9863-427a-b736-abe560c7476b",
   "metadata": {
    "jupyter": {
     "is_executing": true
    }
   },
   "outputs": [],
   "source": [
    "import pandas as pd\n",
    "from sklearn.feature_extraction.text import TfidfVectorizer\n",
    "from sklearn.decomposition import NMF\n",
    "from sklearn.preprocessing import normalize\n",
    "from sklearn.metrics.pairwise import cosine_similarity\n",
    "from nltk.tokenize import word_tokenize\n",
    "import sys\n",
    "import subprocess\n",
    "import os\n",
    "\n",
    "root_dir = subprocess.check_output('git rev-parse --show-toplevel'.split()).decode('utf-8').strip()\n",
    "sys.path.append(root_dir)\n",
    "\n",
    "from datahandler.DataHandler import DataHandler\n",
    "\n",
    "matches_file_path = os.path.join(root_dir, 'data/dlf/matches_dlf.csv')\n",
    "actual_matches = pd.read_csv(matches_file_path)"
   ]
  },
  {
   "cell_type": "code",
   "execution_count": 2,
   "id": "2fdfa02e-30ed-4f08-9d3c-db9f94af49c8",
   "metadata": {},
   "outputs": [],
   "source": [
    "dh = DataHandler(\"dlf\")\n",
    "easy_articles = dh.get_all('easy')\n",
    "hard_articles = dh.get_all('hard')"
   ]
  },
  {
   "cell_type": "code",
   "execution_count": 20,
   "id": "e2e7d28f-8240-45b8-af25-f08f7f02ace8",
   "metadata": {
    "scrolled": true
   },
   "outputs": [
    {
     "data": {
      "text/plain": [
       "<154x8098 sparse matrix of type '<class 'numpy.int64'>'\n",
       "\twith 12492 stored elements in Compressed Sparse Row format>"
      ]
     },
     "execution_count": 20,
     "metadata": {},
     "output_type": "execute_result"
    }
   ],
   "source": [
    "from ArticleVectorizer import ArticleVectorizer\n",
    "vectorizer = ArticleVectorizer(ngram_range=(1,2),\n",
    "                                 convert_segmented_words=False,\n",
    "                                 lowercase=True,\n",
    "                                 stop_words=True,\n",
    "                                 non_alnum=True,\n",
    "                                 capitalized_only=True, \n",
    "                                 min_df=0.0, \n",
    "                                 encoding=\"ascii\")\n",
    "articles = [article for article in easy_articles['text']]\n",
    "vectorizer.fit_transform(articles)"
   ]
  }
 ],
 "metadata": {
  "kernelspec": {
   "display_name": "Python 3 (ipykernel)",
   "language": "python",
   "name": "python3"
  },
  "language_info": {
   "codemirror_mode": {
    "name": "ipython",
    "version": 3
   },
   "file_extension": ".py",
   "mimetype": "text/x-python",
   "name": "python",
   "nbconvert_exporter": "python",
   "pygments_lexer": "ipython3",
   "version": "3.12.2"
  }
 },
 "nbformat": 4,
 "nbformat_minor": 5
}
