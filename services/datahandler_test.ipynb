{
 "cells": [
  {
   "cell_type": "code",
   "execution_count": 10,
   "metadata": {},
   "outputs": [
    {
     "data": {
      "text/plain": [
       "url      object\n",
       "title    object\n",
       "date     object\n",
       "text     object\n",
       "dtype: object"
      ]
     },
     "execution_count": 10,
     "metadata": {},
     "output_type": "execute_result"
    }
   ],
   "source": [
    "from DataHandler import DataHandler\n",
    "\n",
    "# Test code for the DataHandler functions\n",
    "# results of pandas frames show nicer in jupyter\n",
    "dh = DataHandler(\"df\")\n",
    "\n",
    "#dh.get_first(\"e\")\n",
    "#dh.get_all(\"e\")\n",
    "dh.head(3, \"e\")"
   ]
  },
  {
   "cell_type": "code",
   "execution_count": 2,
   "metadata": {},
   "outputs": [
    {
     "data": {
      "text/html": [
       "<div>\n",
       "<style scoped>\n",
       "    .dataframe tbody tr th:only-of-type {\n",
       "        vertical-align: middle;\n",
       "    }\n",
       "\n",
       "    .dataframe tbody tr th {\n",
       "        vertical-align: top;\n",
       "    }\n",
       "\n",
       "    .dataframe thead th {\n",
       "        text-align: right;\n",
       "    }\n",
       "</style>\n",
       "<table border=\"1\" class=\"dataframe\">\n",
       "  <thead>\n",
       "    <tr style=\"text-align: right;\">\n",
       "      <th></th>\n",
       "      <th>url</th>\n",
       "      <th>title</th>\n",
       "      <th>date</th>\n",
       "      <th>text</th>\n",
       "    </tr>\n",
       "  </thead>\n",
       "  <tbody>\n",
       "    <tr>\n",
       "      <th>0</th>\n",
       "      <td>https://www.deutschlandfunk.de/abstimmung-uebe...</td>\n",
       "      <td>Abstimmung über Selbstbestimmungsgesetz: Grüne...</td>\n",
       "      <td>12.04.2024</td>\n",
       "      <td>Dennoch bleibe die Aufgabe, die aufgeheizte St...</td>\n",
       "    </tr>\n",
       "  </tbody>\n",
       "</table>\n",
       "</div>"
      ],
      "text/plain": [
       "                                                 url  \\\n",
       "0  https://www.deutschlandfunk.de/abstimmung-uebe...   \n",
       "\n",
       "                                               title        date  \\\n",
       "0  Abstimmung über Selbstbestimmungsgesetz: Grüne...  12.04.2024   \n",
       "\n",
       "                                                text  \n",
       "0  Dennoch bleibe die Aufgabe, die aufgeheizte St...  "
      ]
     },
     "execution_count": 2,
     "metadata": {},
     "output_type": "execute_result"
    }
   ],
   "source": [
    "#dh.head(3, \"h\")\n",
    "dh.get_first(\"h\")"
   ]
  },
  {
   "cell_type": "code",
   "execution_count": 3,
   "metadata": {},
   "outputs": [
    {
     "data": {
      "text/plain": [
       "['Der Grund für den Strom-Ausfall ist ein kaputter Strom-Mast. Unbekannte haben ihn durch ein Feuer zerstört. Dadurch ist der Strom in der Tesla-Fabrik ausgefallen. Die Mitarbeiterinnen und Mitarbeiter konnten keine Elektro-Autos mehr zusammenbauen. Tesla hat dadurch viel Geld verloren. Auch viele Häuser in der Gegend von Grünheide hatten für einige Zeit keinen Strom mehr.\\nEine Gruppe von Tesla-Gegnern hat im Internet geschrieben: Wir haben den Strom-Mast angezündet. Die Gruppe sagt: Die Arbeiter in der Fabrik werden nicht gut behandelt. Sie sagt auch: Die Tesla-Fabrik verschmutzt das Grund-Wasser. Die Polizei sucht jetzt die Täter.\\nDer Strom-Mast ist noch nicht repariert. Es wird länger als eine Woche dauern, bis die Fabrik wieder Strom hat.\\nDer Chef von Tesla heißt Elon Musk. Er hat gesagt: Der Anschlag war extrem dumm. Der Minister-Präsident von dem Bundes-Land Brandenburg heißt Dietmar Woidke. Auch er hat den Anschlag kritisiert. Woidke sagt: Der Anschlag war eine Form von Terrorismus.']"
      ]
     },
     "execution_count": 3,
     "metadata": {},
     "output_type": "execute_result"
    }
   ],
   "source": [
    "list(dh.get_first(\"e\")[\"text\"])"
   ]
  },
  {
   "cell_type": "code",
   "execution_count": 4,
   "metadata": {},
   "outputs": [],
   "source": [
    "#dh.save_article(\"e\", metadata, content, audio=None)"
   ]
  }
 ],
 "metadata": {
  "kernelspec": {
   "display_name": "base",
   "language": "python",
   "name": "python3"
  },
  "language_info": {
   "codemirror_mode": {
    "name": "ipython",
    "version": 3
   },
   "file_extension": ".py",
   "mimetype": "text/x-python",
   "name": "python",
   "nbconvert_exporter": "python",
   "pygments_lexer": "ipython3",
   "version": "3.9.18"
  }
 },
 "nbformat": 4,
 "nbformat_minor": 2
}
