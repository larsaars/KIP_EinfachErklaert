{
 "cells": [
  {
   "cell_type": "code",
   "execution_count": 1,
   "metadata": {},
   "outputs": [
    {
     "data": {
      "text/html": [
       "<div>\n",
       "<style scoped>\n",
       "    .dataframe tbody tr th:only-of-type {\n",
       "        vertical-align: middle;\n",
       "    }\n",
       "\n",
       "    .dataframe tbody tr th {\n",
       "        vertical-align: top;\n",
       "    }\n",
       "\n",
       "    .dataframe thead th {\n",
       "        text-align: right;\n",
       "    }\n",
       "</style>\n",
       "<table border=\"1\" class=\"dataframe\">\n",
       "  <thead>\n",
       "    <tr style=\"text-align: right;\">\n",
       "      <th></th>\n",
       "      <th>title</th>\n",
       "      <th>description</th>\n",
       "      <th>kicker</th>\n",
       "      <th>date</th>\n",
       "      <th>url</th>\n",
       "      <th>image_url</th>\n",
       "      <th>image_description</th>\n",
       "      <th>audio</th>\n",
       "      <th>text</th>\n",
       "    </tr>\n",
       "  </thead>\n",
       "  <tbody>\n",
       "    <tr>\n",
       "      <th>0</th>\n",
       "      <td>Angebliche Drohnenangriffe: Belarus erhebt Vor...</td>\n",
       "      <td>Zwischen dem NATO-Mitglied Litauen und Nachbar...</td>\n",
       "      <td>Minsk</td>\n",
       "      <td>25.04.2024</td>\n",
       "      <td>https://www.deutschlandfunk.de/angebliche-droh...</td>\n",
       "      <td>https://bilder.deutschlandfunk.de/FI/LE/_2/cc/...</td>\n",
       "      <td>Belarus ist ein enger Verbündeter Russlands (A...</td>\n",
       "      <td>None</td>\n",
       "      <td>Hintergrund sind Aussagen der belarussischen F...</td>\n",
       "    </tr>\n",
       "    <tr>\n",
       "      <th>0</th>\n",
       "      <td>Baerbock eröffnet Petersberger Klimadialog in ...</td>\n",
       "      <td>Bundesaußenministerin Baerbock hat den 15. Pet...</td>\n",
       "      <td>Klimadiplomatie</td>\n",
       "      <td>25.04.2024</td>\n",
       "      <td>https://www.deutschlandfunk.de/baerbock-eroeff...</td>\n",
       "      <td>https://bilder.deutschlandfunk.de/c8/1f/e4/c5/...</td>\n",
       "      <td>Bundesaußenministerin Baerbock eröffnet den Pe...</td>\n",
       "      <td>None</td>\n",
       "      <td>Zum Auftakt verwies Baerbock in ihrer Rede auf...</td>\n",
       "    </tr>\n",
       "    <tr>\n",
       "      <th>0</th>\n",
       "      <td>Bundesinnenministerin Faeser will Gewalt gegen...</td>\n",
       "      <td>Bundesinnenministerin Faeser hat gesetzliche M...</td>\n",
       "      <td>Bundesregierung</td>\n",
       "      <td>25.04.2024</td>\n",
       "      <td>https://www.deutschlandfunk.de/bundesinnenmini...</td>\n",
       "      <td>https://bilder.deutschlandfunk.de/57/26/08/53/...</td>\n",
       "      <td>Innenministerin Nancy Faeser (picture alliance...</td>\n",
       "      <td>None</td>\n",
       "      <td>Die SPD-Politikerin strebt eine Änderung des G...</td>\n",
       "    </tr>\n",
       "    <tr>\n",
       "      <th>0</th>\n",
       "      <td>Bundestag berät über Vorwürfe gegen AfD - Krit...</td>\n",
       "      <td>Der Bundestag befasst sich heute mit den jüngs...</td>\n",
       "      <td>Aktuelle Stunde</td>\n",
       "      <td>25.04.2024</td>\n",
       "      <td>https://www.deutschlandfunk.de/bundestag-berae...</td>\n",
       "      <td>https://bilder.deutschlandfunk.de/4e/19/42/12/...</td>\n",
       "      <td>Der Bundestag hält am Nachmittag eine aktuelle...</td>\n",
       "      <td>None</td>\n",
       "      <td>Die scheidende AfD-Europaabgeordnete Limmer fo...</td>\n",
       "    </tr>\n",
       "    <tr>\n",
       "      <th>0</th>\n",
       "      <td>Bundestag stimmt für Einführung eines Veterane...</td>\n",
       "      <td>Der Bundestag hat mit großer Mehrheit für die ...</td>\n",
       "      <td>Jährlicher Gedenktag</td>\n",
       "      <td>25.04.2024</td>\n",
       "      <td>https://www.deutschlandfunk.de/bundestag-stimm...</td>\n",
       "      <td>https://bilder.deutschlandfunk.de/40/6e/97/38/...</td>\n",
       "      <td>U.a. auch als Zeichen der Wertschätzung der au...</td>\n",
       "      <td>None</td>\n",
       "      <td>Die Gruppe der Linken stimmte dagegen. In dem ...</td>\n",
       "    </tr>\n",
       "  </tbody>\n",
       "</table>\n",
       "</div>"
      ],
      "text/plain": [
       "                                               title  \\\n",
       "0  Angebliche Drohnenangriffe: Belarus erhebt Vor...   \n",
       "0  Baerbock eröffnet Petersberger Klimadialog in ...   \n",
       "0  Bundesinnenministerin Faeser will Gewalt gegen...   \n",
       "0  Bundestag berät über Vorwürfe gegen AfD - Krit...   \n",
       "0  Bundestag stimmt für Einführung eines Veterane...   \n",
       "\n",
       "                                         description                kicker  \\\n",
       "0  Zwischen dem NATO-Mitglied Litauen und Nachbar...                 Minsk   \n",
       "0  Bundesaußenministerin Baerbock hat den 15. Pet...       Klimadiplomatie   \n",
       "0  Bundesinnenministerin Faeser hat gesetzliche M...       Bundesregierung   \n",
       "0  Der Bundestag befasst sich heute mit den jüngs...       Aktuelle Stunde   \n",
       "0  Der Bundestag hat mit großer Mehrheit für die ...  Jährlicher Gedenktag   \n",
       "\n",
       "         date                                                url  \\\n",
       "0  25.04.2024  https://www.deutschlandfunk.de/angebliche-droh...   \n",
       "0  25.04.2024  https://www.deutschlandfunk.de/baerbock-eroeff...   \n",
       "0  25.04.2024  https://www.deutschlandfunk.de/bundesinnenmini...   \n",
       "0  25.04.2024  https://www.deutschlandfunk.de/bundestag-berae...   \n",
       "0  25.04.2024  https://www.deutschlandfunk.de/bundestag-stimm...   \n",
       "\n",
       "                                           image_url  \\\n",
       "0  https://bilder.deutschlandfunk.de/FI/LE/_2/cc/...   \n",
       "0  https://bilder.deutschlandfunk.de/c8/1f/e4/c5/...   \n",
       "0  https://bilder.deutschlandfunk.de/57/26/08/53/...   \n",
       "0  https://bilder.deutschlandfunk.de/4e/19/42/12/...   \n",
       "0  https://bilder.deutschlandfunk.de/40/6e/97/38/...   \n",
       "\n",
       "                                   image_description audio  \\\n",
       "0  Belarus ist ein enger Verbündeter Russlands (A...  None   \n",
       "0  Bundesaußenministerin Baerbock eröffnet den Pe...  None   \n",
       "0  Innenministerin Nancy Faeser (picture alliance...  None   \n",
       "0  Der Bundestag hält am Nachmittag eine aktuelle...  None   \n",
       "0  U.a. auch als Zeichen der Wertschätzung der au...  None   \n",
       "\n",
       "                                                text  \n",
       "0  Hintergrund sind Aussagen der belarussischen F...  \n",
       "0  Zum Auftakt verwies Baerbock in ihrer Rede auf...  \n",
       "0  Die SPD-Politikerin strebt eine Änderung des G...  \n",
       "0  Die scheidende AfD-Europaabgeordnete Limmer fo...  \n",
       "0  Die Gruppe der Linken stimmte dagegen. In dem ...  "
      ]
     },
     "execution_count": 1,
     "metadata": {},
     "output_type": "execute_result"
    }
   ],
   "source": [
    "import os\n",
    "from DataHandler import DataHandler\n",
    "\n",
    "# change dir since we are in a subfolder \n",
    "os.chdir(os.path.dirname(os.getcwd()))\n",
    "\n",
    "# Test code for the DataHandler functions\n",
    "# results of pandas frames show nicer in jupyter\n",
    "dh = DataHandler(\"dlf\")\n",
    "\n",
    "#dh.get_first(\"e\")\n",
    "#dh.get_all(\"e\")\n",
    "dh.head(\"h\", 5)"
   ]
  },
  {
   "cell_type": "code",
   "execution_count": 2,
   "metadata": {},
   "outputs": [
    {
     "data": {
      "text/html": [
       "<div>\n",
       "<style scoped>\n",
       "    .dataframe tbody tr th:only-of-type {\n",
       "        vertical-align: middle;\n",
       "    }\n",
       "\n",
       "    .dataframe tbody tr th {\n",
       "        vertical-align: top;\n",
       "    }\n",
       "\n",
       "    .dataframe thead th {\n",
       "        text-align: right;\n",
       "    }\n",
       "</style>\n",
       "<table border=\"1\" class=\"dataframe\">\n",
       "  <thead>\n",
       "    <tr style=\"text-align: right;\">\n",
       "      <th></th>\n",
       "      <th>title</th>\n",
       "      <th>description</th>\n",
       "      <th>kicker</th>\n",
       "      <th>date</th>\n",
       "      <th>url</th>\n",
       "      <th>image_url</th>\n",
       "      <th>image_description</th>\n",
       "      <th>audio</th>\n",
       "      <th>text</th>\n",
       "    </tr>\n",
       "  </thead>\n",
       "  <tbody>\n",
       "    <tr>\n",
       "      <th>0</th>\n",
       "      <td>Angebliche Drohnenangriffe: Belarus erhebt Vor...</td>\n",
       "      <td>Zwischen dem NATO-Mitglied Litauen und Nachbar...</td>\n",
       "      <td>Minsk</td>\n",
       "      <td>25.04.2024</td>\n",
       "      <td>https://www.deutschlandfunk.de/angebliche-droh...</td>\n",
       "      <td>https://bilder.deutschlandfunk.de/FI/LE/_2/cc/...</td>\n",
       "      <td>Belarus ist ein enger Verbündeter Russlands (A...</td>\n",
       "      <td>None</td>\n",
       "      <td>Hintergrund sind Aussagen der belarussischen F...</td>\n",
       "    </tr>\n",
       "  </tbody>\n",
       "</table>\n",
       "</div>"
      ],
      "text/plain": [
       "                                               title  \\\n",
       "0  Angebliche Drohnenangriffe: Belarus erhebt Vor...   \n",
       "\n",
       "                                         description kicker        date  \\\n",
       "0  Zwischen dem NATO-Mitglied Litauen und Nachbar...  Minsk  25.04.2024   \n",
       "\n",
       "                                                 url  \\\n",
       "0  https://www.deutschlandfunk.de/angebliche-droh...   \n",
       "\n",
       "                                           image_url  \\\n",
       "0  https://bilder.deutschlandfunk.de/FI/LE/_2/cc/...   \n",
       "\n",
       "                                   image_description audio  \\\n",
       "0  Belarus ist ein enger Verbündeter Russlands (A...  None   \n",
       "\n",
       "                                                text  \n",
       "0  Hintergrund sind Aussagen der belarussischen F...  "
      ]
     },
     "execution_count": 2,
     "metadata": {},
     "output_type": "execute_result"
    }
   ],
   "source": [
    "dh.get_first(\"h\")"
   ]
  },
  {
   "cell_type": "code",
   "execution_count": 3,
   "metadata": {},
   "outputs": [
    {
     "data": {
      "text/plain": [
       "['Im Gaza-Streifen gibt es seit Oktober Krieg. Das Land Israel kämpft gegen die Terror-Gruppe Hamas. Den Menschen im Gaza-Streifen geht es inzwischen sehr schlecht. Ihre Häuser und Straßen sind zerstört. Sie sind auf der Flucht und sie haben kaum etwas zu essen und zu trinken. Auch viele Kranken-Häuser sind zerstört.\\nEs kommt zur Zeit nur wenig Hilfe in den Gaza-Streifen. Denn auf dem Land-Weg ist es sehr schwierig und gefährlich. Deshalb setzen Länder wie zum Beispiel die USA jetzt Flugzeuge ein. Die fliegen über den Gaza-Streifen und werfen Lebensmittel, Wasser und Medikamente mit Fall-Schirmen ab. Jetzt will auch Deutschland mitmachen. Die Bundes-Wehr will 2 Transport-Flugzeuge schicken. Die Hilfe mit den Flugzeugen nennt man auch Luft-Brücke. \\nHilfs-Organisationen sagen: Die Hilfe aus der Luft bringt nicht viel. Es kommen nicht genug Hilfs-Güter und sie können nicht gerecht verteilt werden. Die Hilfs-Organisationen sagen auch: Am besten ist der Transport von Hilfs-Gütern mit Last-Wagen. \\nInzwischen ist auch das erste Schiff mit Hilfs-Gütern los gefahren. Und zwar von der Insel Zypern im Mittel-Meer. Das Schiff hat Reis und Mehl dabei. Der Gaza-Streifen hat aber keinen Hafen. Deshalb müssen die Hilfs-Güter vor der Küste auf kleine Boote umgeladen werden. Die Regierung von den USA hat deshalb gesagt: Wir wollen einen Hafen bauen. Das wird aber 2 Monate dauern.']"
      ]
     },
     "execution_count": 3,
     "metadata": {},
     "output_type": "execute_result"
    }
   ],
   "source": [
    "list(dh.get_first(\"e\")[\"text\"])"
   ]
  },
  {
   "cell_type": "code",
   "execution_count": 4,
   "metadata": {},
   "outputs": [
    {
     "data": {
      "text/plain": [
       "'.\\\\data\\\\deutschlandfunk\\\\easy\\\\2024-03-15-Bundes-Wehr_beteiligt_sich_an_Luft-Bruecke_fuer_den_Gaza-Streifen_'"
      ]
     },
     "execution_count": 4,
     "metadata": {},
     "output_type": "execute_result"
    }
   ],
   "source": [
    "dh.search_by(\"e\", \"url\", \"https://www.nachrichtenleicht.de/gaza-154.html\")"
   ]
  },
  {
   "cell_type": "code",
   "execution_count": 5,
   "metadata": {},
   "outputs": [
    {
     "data": {
      "text/plain": [
       "'.\\\\data\\\\deutschlandfunk\\\\easy\\\\2024-03-29-Baerbock_fordert_mehr_Hilfe_fuer_Palaestinenser'"
      ]
     },
     "execution_count": 5,
     "metadata": {},
     "output_type": "execute_result"
    }
   ],
   "source": [
    "dh.search_by(\"e\", \"date\",  \"29.03.2024\")"
   ]
  },
  {
   "cell_type": "code",
   "execution_count": 6,
   "metadata": {},
   "outputs": [
    {
     "data": {
      "text/plain": [
       "'.\\\\data\\\\deutschlandfunk\\\\easy\\\\2024-04-05-Die_NATO_feiert_ihren_75_Geburtstag'"
      ]
     },
     "execution_count": 6,
     "metadata": {},
     "output_type": "execute_result"
    }
   ],
   "source": [
    "dh.search_by(\"e\", \"title\",\"Die NATO feiert ihren 75. Geburtstag\")"
   ]
  },
  {
   "cell_type": "code",
   "execution_count": 7,
   "metadata": {},
   "outputs": [
    {
     "data": {
      "text/plain": [
       "False"
      ]
     },
     "execution_count": 7,
     "metadata": {},
     "output_type": "execute_result"
    }
   ],
   "source": [
    "dh.is_already_safed(\"e\", \"blabla\")"
   ]
  },
  {
   "cell_type": "code",
   "execution_count": 8,
   "metadata": {},
   "outputs": [
    {
     "data": {
      "text/plain": [
       "True"
      ]
     },
     "execution_count": 8,
     "metadata": {},
     "output_type": "execute_result"
    }
   ],
   "source": [
    "dh.is_already_safed(\"e\", \"https://www.nachrichtenleicht.de/gaza-154.html\")"
   ]
  },
  {
   "cell_type": "code",
   "execution_count": null,
   "metadata": {},
   "outputs": [],
   "source": []
  }
 ],
 "metadata": {
  "kernelspec": {
   "display_name": "base",
   "language": "python",
   "name": "python3"
  },
  "language_info": {
   "codemirror_mode": {
    "name": "ipython",
    "version": 3
   },
   "file_extension": ".py",
   "mimetype": "text/x-python",
   "name": "python",
   "nbconvert_exporter": "python",
   "pygments_lexer": "ipython3",
   "version": "3.9.19"
  }
 },
 "nbformat": 4,
 "nbformat_minor": 2
}
