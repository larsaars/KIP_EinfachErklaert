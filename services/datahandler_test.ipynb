{
 "cells": [
  {
   "cell_type": "code",
   "execution_count": 1,
   "metadata": {},
   "outputs": [
    {
     "data": {
      "text/html": [
       "<div>\n",
       "<style scoped>\n",
       "    .dataframe tbody tr th:only-of-type {\n",
       "        vertical-align: middle;\n",
       "    }\n",
       "\n",
       "    .dataframe tbody tr th {\n",
       "        vertical-align: top;\n",
       "    }\n",
       "\n",
       "    .dataframe thead th {\n",
       "        text-align: right;\n",
       "    }\n",
       "</style>\n",
       "<table border=\"1\" class=\"dataframe\">\n",
       "  <thead>\n",
       "    <tr style=\"text-align: right;\">\n",
       "      <th></th>\n",
       "      <th>title</th>\n",
       "      <th>description</th>\n",
       "      <th>kicker</th>\n",
       "      <th>date</th>\n",
       "      <th>url</th>\n",
       "      <th>image_url</th>\n",
       "      <th>image_description</th>\n",
       "      <th>audio</th>\n",
       "      <th>text</th>\n",
       "    </tr>\n",
       "  </thead>\n",
       "  <tbody>\n",
       "    <tr>\n",
       "      <th>0</th>\n",
       "      <td>Baerbock: Hamas will \"furchtbaren Krieg\" verlä...</td>\n",
       "      <td>Bei den Verhandlungen über eine Waffenruhe im ...</td>\n",
       "      <td>Gazastreifen</td>\n",
       "      <td>30.04.2024</td>\n",
       "      <td>https://www.deutschlandfunk.de/baerbock-hamas-...</td>\n",
       "      <td>https://bilder.deutschlandfunk.de/3b/26/b2/51/...</td>\n",
       "      <td>Außenministerin Baerbock fordert die Hamas auf...</td>\n",
       "      <td>None</td>\n",
       "      <td>Die Hamas habe nicht nur das Ziel, Israel zu g...</td>\n",
       "    </tr>\n",
       "    <tr>\n",
       "      <th>0</th>\n",
       "      <td>China beschießt Schiffe der philippinischen Kü...</td>\n",
       "      <td>Im Südchinesischen Meer hat es erneut eine Kon...</td>\n",
       "      <td>Südchinesisches Meer</td>\n",
       "      <td>30.04.2024</td>\n",
       "      <td>https://www.deutschlandfunk.de/china-beschiess...</td>\n",
       "      <td>https://bilder.deutschlandfunk.de/6e/fc/b5/83/...</td>\n",
       "      <td>Ein chinesisches Schiff beschießt ein philippi...</td>\n",
       "      <td>None</td>\n",
       "      <td>Die philippinische Küstenwache wirft ihrem chi...</td>\n",
       "    </tr>\n",
       "    <tr>\n",
       "      <th>0</th>\n",
       "      <td>Deutsche Wirtschaft zu Jahresbeginn leicht gew...</td>\n",
       "      <td>Die deutsche Wirtschaft ist zu Jahresbeginn le...</td>\n",
       "      <td>Statistisches Bundesamt</td>\n",
       "      <td>30.04.2024</td>\n",
       "      <td>https://www.deutschlandfunk.de/deutsche-wirtsc...</td>\n",
       "      <td>https://bilder.deutschlandfunk.de/db/ca/55/12/...</td>\n",
       "      <td>Containerschiffe im Hamburger Hafen (picture a...</td>\n",
       "      <td>None</td>\n",
       "      <td>Den Statistikern zufolge wurde das Wachstum zu...</td>\n",
       "    </tr>\n",
       "    <tr>\n",
       "      <th>0</th>\n",
       "      <td>Deutschland liefert zweites Flugabwehrsystem \"...</td>\n",
       "      <td>Deutschland hat der Ukraine ein zweites Flugab...</td>\n",
       "      <td>Panzer für die Ukraine</td>\n",
       "      <td>30.04.2024</td>\n",
       "      <td>https://www.deutschlandfunk.de/deutschland-lie...</td>\n",
       "      <td>https://bilder.deutschlandfunk.de/67/5d/d8/6d/...</td>\n",
       "      <td>Schützenpanzer vom Typ Marder liefert die Bund...</td>\n",
       "      <td>None</td>\n",
       "      <td>Auch tausende Artilleriegranaten, Munition für...</td>\n",
       "    </tr>\n",
       "    <tr>\n",
       "      <th>0</th>\n",
       "      <td>Deutschlands Vertreter im Westjordanland muss ...</td>\n",
       "      <td>Bei einem Termin des Leiters der Deutschen Ver...</td>\n",
       "      <td>Birzeit-Universität</td>\n",
       "      <td>30.04.2024</td>\n",
       "      <td>https://www.deutschlandfunk.de/deutschlands-ve...</td>\n",
       "      <td>https://bilder.deutschlandfunk.de/FI/LE/_d/50/...</td>\n",
       "      <td>Zu dieser Meldung liegt uns noch kein Bildmate...</td>\n",
       "      <td>None</td>\n",
       "      <td>Das Auswärtige Amt in Berlin teilte mit, aus S...</td>\n",
       "    </tr>\n",
       "  </tbody>\n",
       "</table>\n",
       "</div>"
      ],
      "text/plain": [
       "                                               title  \\\n",
       "0  Baerbock: Hamas will \"furchtbaren Krieg\" verlä...   \n",
       "0  China beschießt Schiffe der philippinischen Kü...   \n",
       "0  Deutsche Wirtschaft zu Jahresbeginn leicht gew...   \n",
       "0  Deutschland liefert zweites Flugabwehrsystem \"...   \n",
       "0  Deutschlands Vertreter im Westjordanland muss ...   \n",
       "\n",
       "                                         description                   kicker  \\\n",
       "0  Bei den Verhandlungen über eine Waffenruhe im ...             Gazastreifen   \n",
       "0  Im Südchinesischen Meer hat es erneut eine Kon...     Südchinesisches Meer   \n",
       "0  Die deutsche Wirtschaft ist zu Jahresbeginn le...  Statistisches Bundesamt   \n",
       "0  Deutschland hat der Ukraine ein zweites Flugab...   Panzer für die Ukraine   \n",
       "0  Bei einem Termin des Leiters der Deutschen Ver...      Birzeit-Universität   \n",
       "\n",
       "         date                                                url  \\\n",
       "0  30.04.2024  https://www.deutschlandfunk.de/baerbock-hamas-...   \n",
       "0  30.04.2024  https://www.deutschlandfunk.de/china-beschiess...   \n",
       "0  30.04.2024  https://www.deutschlandfunk.de/deutsche-wirtsc...   \n",
       "0  30.04.2024  https://www.deutschlandfunk.de/deutschland-lie...   \n",
       "0  30.04.2024  https://www.deutschlandfunk.de/deutschlands-ve...   \n",
       "\n",
       "                                           image_url  \\\n",
       "0  https://bilder.deutschlandfunk.de/3b/26/b2/51/...   \n",
       "0  https://bilder.deutschlandfunk.de/6e/fc/b5/83/...   \n",
       "0  https://bilder.deutschlandfunk.de/db/ca/55/12/...   \n",
       "0  https://bilder.deutschlandfunk.de/67/5d/d8/6d/...   \n",
       "0  https://bilder.deutschlandfunk.de/FI/LE/_d/50/...   \n",
       "\n",
       "                                   image_description audio  \\\n",
       "0  Außenministerin Baerbock fordert die Hamas auf...  None   \n",
       "0  Ein chinesisches Schiff beschießt ein philippi...  None   \n",
       "0  Containerschiffe im Hamburger Hafen (picture a...  None   \n",
       "0  Schützenpanzer vom Typ Marder liefert die Bund...  None   \n",
       "0  Zu dieser Meldung liegt uns noch kein Bildmate...  None   \n",
       "\n",
       "                                                text  \n",
       "0  Die Hamas habe nicht nur das Ziel, Israel zu g...  \n",
       "0  Die philippinische Küstenwache wirft ihrem chi...  \n",
       "0  Den Statistikern zufolge wurde das Wachstum zu...  \n",
       "0  Auch tausende Artilleriegranaten, Munition für...  \n",
       "0  Das Auswärtige Amt in Berlin teilte mit, aus S...  "
      ]
     },
     "execution_count": 1,
     "metadata": {},
     "output_type": "execute_result"
    }
   ],
   "source": [
    "import os\n",
    "from DataHandler import DataHandler\n",
    "\n",
    "# change dir since we are in a subfolder \n",
    "os.chdir(os.path.dirname(os.getcwd()))\n",
    "\n",
    "# Test code for the DataHandler functions\n",
    "# results of pandas frames show nicer in jupyter\n",
    "dh = DataHandler(\"dlf\")\n",
    "\n",
    "#dh.get_first(\"e\")\n",
    "#dh.get_all(\"e\")\n",
    "dh.head(\"h\", 5)"
   ]
  },
  {
   "cell_type": "code",
   "execution_count": 2,
   "metadata": {},
   "outputs": [
    {
     "data": {
      "text/html": [
       "<div>\n",
       "<style scoped>\n",
       "    .dataframe tbody tr th:only-of-type {\n",
       "        vertical-align: middle;\n",
       "    }\n",
       "\n",
       "    .dataframe tbody tr th {\n",
       "        vertical-align: top;\n",
       "    }\n",
       "\n",
       "    .dataframe thead th {\n",
       "        text-align: right;\n",
       "    }\n",
       "</style>\n",
       "<table border=\"1\" class=\"dataframe\">\n",
       "  <thead>\n",
       "    <tr style=\"text-align: right;\">\n",
       "      <th></th>\n",
       "      <th>title</th>\n",
       "      <th>description</th>\n",
       "      <th>kicker</th>\n",
       "      <th>date</th>\n",
       "      <th>url</th>\n",
       "      <th>image_url</th>\n",
       "      <th>image_description</th>\n",
       "      <th>audio</th>\n",
       "      <th>text</th>\n",
       "    </tr>\n",
       "  </thead>\n",
       "  <tbody>\n",
       "    <tr>\n",
       "      <th>0</th>\n",
       "      <td>Baerbock: Hamas will \"furchtbaren Krieg\" verlä...</td>\n",
       "      <td>Bei den Verhandlungen über eine Waffenruhe im ...</td>\n",
       "      <td>Gazastreifen</td>\n",
       "      <td>30.04.2024</td>\n",
       "      <td>https://www.deutschlandfunk.de/baerbock-hamas-...</td>\n",
       "      <td>https://bilder.deutschlandfunk.de/3b/26/b2/51/...</td>\n",
       "      <td>Außenministerin Baerbock fordert die Hamas auf...</td>\n",
       "      <td>None</td>\n",
       "      <td>Die Hamas habe nicht nur das Ziel, Israel zu g...</td>\n",
       "    </tr>\n",
       "  </tbody>\n",
       "</table>\n",
       "</div>"
      ],
      "text/plain": [
       "                                               title  \\\n",
       "0  Baerbock: Hamas will \"furchtbaren Krieg\" verlä...   \n",
       "\n",
       "                                         description        kicker  \\\n",
       "0  Bei den Verhandlungen über eine Waffenruhe im ...  Gazastreifen   \n",
       "\n",
       "         date                                                url  \\\n",
       "0  30.04.2024  https://www.deutschlandfunk.de/baerbock-hamas-...   \n",
       "\n",
       "                                           image_url  \\\n",
       "0  https://bilder.deutschlandfunk.de/3b/26/b2/51/...   \n",
       "\n",
       "                                   image_description audio  \\\n",
       "0  Außenministerin Baerbock fordert die Hamas auf...  None   \n",
       "\n",
       "                                                text  \n",
       "0  Die Hamas habe nicht nur das Ziel, Israel zu g...  "
      ]
     },
     "execution_count": 2,
     "metadata": {},
     "output_type": "execute_result"
    }
   ],
   "source": [
    "dh.get_first(\"h\")"
   ]
  },
  {
   "cell_type": "code",
   "execution_count": 3,
   "metadata": {},
   "outputs": [
    {
     "data": {
      "text/plain": [
       "['Die israelische Armee will eine Untersuchung von dem Angriff. Der israelische Ministerpräsident heißt Benjamin Netanjahu. Er sagt: Die Armee hat die Hilfs-Organisation aus Versehen getroffen. Er hat auch gesagt: So etwas passiert im Krieg. Netanjahu hat sich aber nicht für den Angriff entschuldigt. \\nPolitiker aus mehreren Ländern haben Israel für den Angriff kritisiert. Sie sagen: Wir wollen wissen, warum der Angriff passiert ist. Es sind unschuldige Menschen gestorben. Sie sagen auch: Israel schützt Helfer im Gaza-Streifen nicht genug. Die Hilfs-Organisation sagt: Die israelische Armee hat gewusst, dass wir dort unterwegs waren.\\n6 von den getöteten Helfern kamen aus dem Ausland. Sie kamen aus den Ländern Australien, Kanada, Polen und Groß-Britannien. Sie haben Essen an die Menschen im Gaza-Streifen verteilt. Die Hilfs-Organisation stoppt jetzt erstmal ihre Arbeit im Gaza-Streifen. Viele Menschen im Gaza-Streifen hungern. Die meisten anderen Organisationen fahren in viele Teile von dem Gaza-Streifen nicht. Es ist zu gefährlich.\\n']"
      ]
     },
     "execution_count": 3,
     "metadata": {},
     "output_type": "execute_result"
    }
   ],
   "source": [
    "list(dh.get_first(\"e\")[\"text\"])"
   ]
  },
  {
   "cell_type": "code",
   "execution_count": 10,
   "metadata": {},
   "outputs": [
    {
     "data": {
      "text/plain": [
       "'C:/Users/felix/OneDrive/Vorlesungen/6_Semester/KIP/KIP_EinfachErklaert\\\\data\\\\dlf\\\\easy\\\\26.04.2024-Spionage-Affaere_um_die_Partei_AfD'"
      ]
     },
     "execution_count": 10,
     "metadata": {},
     "output_type": "execute_result"
    }
   ],
   "source": [
    "dh.search_by(\"e\", \"url\", \"https://www.nachrichtenleicht.de/afd-spionageaffaere-krah-100.html\")\n"
   ]
  },
  {
   "cell_type": "code",
   "execution_count": 5,
   "metadata": {},
   "outputs": [],
   "source": [
    "dh.search_by(\"e\", \"url\", \"blabla\")"
   ]
  },
  {
   "cell_type": "code",
   "execution_count": 6,
   "metadata": {},
   "outputs": [
    {
     "data": {
      "text/plain": [
       "'C:/Users/felix/OneDrive/Vorlesungen/6_Semester/KIP/KIP_EinfachErklaert\\\\data\\\\dlf\\\\easy\\\\29.03.2024-Baerbock_fordert_mehr_Hilfe_fuer_Palaestinenser'"
      ]
     },
     "execution_count": 6,
     "metadata": {},
     "output_type": "execute_result"
    }
   ],
   "source": [
    "dh.search_by(\"e\", \"date\",  \"29.03.2024\")"
   ]
  },
  {
   "cell_type": "code",
   "execution_count": 7,
   "metadata": {},
   "outputs": [
    {
     "data": {
      "text/plain": [
       "'C:/Users/felix/OneDrive/Vorlesungen/6_Semester/KIP/KIP_EinfachErklaert\\\\data\\\\dlf\\\\easy\\\\05.04.2024-Die_NATO_feiert_ihren_75_Geburtstag'"
      ]
     },
     "execution_count": 7,
     "metadata": {},
     "output_type": "execute_result"
    }
   ],
   "source": [
    "dh.search_by(\"e\", \"title\",\"Die NATO feiert ihren 75. Geburtstag\")"
   ]
  },
  {
   "cell_type": "code",
   "execution_count": 8,
   "metadata": {},
   "outputs": [
    {
     "data": {
      "text/plain": [
       "False"
      ]
     },
     "execution_count": 8,
     "metadata": {},
     "output_type": "execute_result"
    }
   ],
   "source": [
    "dh.is_already_saved(\"e\", \"blabla\")"
   ]
  },
  {
   "cell_type": "code",
   "execution_count": 9,
   "metadata": {},
   "outputs": [
    {
     "data": {
      "text/plain": [
       "True"
      ]
     },
     "execution_count": 9,
     "metadata": {},
     "output_type": "execute_result"
    }
   ],
   "source": [
    "dh.is_already_saved(\"e\", \"https://www.nachrichtenleicht.de/afd-spionageaffaere-krah-100.html\")"
   ]
  }
 ],
 "metadata": {
  "kernelspec": {
   "display_name": "base",
   "language": "python",
   "name": "python3"
  },
  "language_info": {
   "codemirror_mode": {
    "name": "ipython",
    "version": 3
   },
   "file_extension": ".py",
   "mimetype": "text/x-python",
   "name": "python",
   "nbconvert_exporter": "python",
   "pygments_lexer": "ipython3",
   "version": "3.9.19"
  }
 },
 "nbformat": 4,
 "nbformat_minor": 2
}
